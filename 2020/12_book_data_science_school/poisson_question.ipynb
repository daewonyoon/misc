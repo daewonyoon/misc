{
 "metadata": {
  "language_info": {
   "codemirror_mode": {
    "name": "ipython",
    "version": 3
   },
   "file_extension": ".py",
   "mimetype": "text/x-python",
   "name": "python",
   "nbconvert_exporter": "python",
   "pygments_lexer": "ipython3",
   "version": "3.8.5-final"
  },
  "orig_nbformat": 2,
  "kernelspec": {
   "name": "python3",
   "display_name": "Python 3",
   "language": "python"
  }
 },
 "nbformat": 4,
 "nbformat_minor": 2,
 "cells": [
  {
   "source": [
    "* 문제1:\n",
    "  * 어느 책을 5페이지 검사하였는데, 오타가 10개 발견되었다. 이 책에서 한 페이지를 검사하였을 때, 오타가 3개 나올 확률은?"
   ],
   "cell_type": "markdown",
   "metadata": {}
  },
  {
   "source": [
    "* 풀이1-1:\n",
    "  * 한페이지의 오타 갯수는 $\\lambda$ = 2 인, Poisson 분포를 따른다고 하고 문제를 푼다. 오타가 3개 나올 확률은 $Poisson_{\\lambda=2} (X=3)$ 을 구하면 된다."
   ],
   "cell_type": "markdown",
   "metadata": {}
  },
  {
   "cell_type": "code",
   "execution_count": 2,
   "metadata": {},
   "outputs": [
    {
     "output_type": "execute_result",
     "data": {
      "text/plain": [
       "0.18044704431548356"
      ]
     },
     "metadata": {},
     "execution_count": 2
    }
   ],
   "source": [
    "import scipy as sc\n",
    "import scipy.stats\n",
    "\n",
    "dist = sc.stats.poisson(2)\n",
    "dist.pmf(3)"
   ]
  },
  {
   "source": [
    "* 풀이1-2:\n",
    "  * 꼭 한페이지당 오타여야 할까? 두페이지의 오타 갯수는 4개였다. 두페이지당 오타의 갯수 X 가 나올 확률이 $\\lambda$ = 4 인, Poisson 분포를 따른다고 하고 문제를 풀어보자. 한페이지당 오타가 3개 나올 확률은, 즉, 두페이지당 오타가 6개 나올 확률이다. $Poisson_{\\lambda=4} (X=6)$ 을 구해보자."
   ],
   "cell_type": "markdown",
   "metadata": {}
  },
  {
   "cell_type": "code",
   "execution_count": 5,
   "metadata": {},
   "outputs": [
    {
     "output_type": "stream",
     "name": "stdout",
     "text": [
      "0.1562934518505317 0.10419563456702102 0.0595403626097263\n"
     ]
    }
   ],
   "source": [
    "\n",
    "dist2 = sc.stats.poisson(4)\n",
    "print(dist2.pmf(5), dist2.pmf(6), dist2.pmf(7))"
   ]
  },
  {
   "source": [
    "print(dist2.pmf(5)/2 + dist2.pmf(6) + dist2.pmf(7)/2)"
   ],
   "cell_type": "code",
   "metadata": {},
   "execution_count": 6,
   "outputs": [
    {
     "output_type": "stream",
     "name": "stdout",
     "text": [
      "0.21211254179715\n"
     ]
    }
   ]
  },
  {
   "source": [
    "----"
   ],
   "cell_type": "markdown",
   "metadata": {}
  },
  {
   "source": [
    "* 문제2:\n",
    "  * 택배회사 전화상담실에 1시간 평균 240건의 전화요청이 들어온다. 그럼 1분동안의 전화요청이 2건 이하일 확률은?"
   ],
   "cell_type": "markdown",
   "metadata": {}
  },
  {
   "source": [
    "* 풀이2-1:\n",
    "   * $lambda = 4$ 인 $Poisson$ 분포의 $P(X<=2)$ 를 구한다."
   ],
   "cell_type": "markdown",
   "metadata": {}
  },
  {
   "cell_type": "code",
   "execution_count": 10,
   "metadata": {},
   "outputs": [
    {
     "output_type": "execute_result",
     "data": {
      "text/plain": [
       "(0.23810330555354434, 0.23810330555354436)"
      ]
     },
     "metadata": {},
     "execution_count": 10
    }
   ],
   "source": [
    "dist = sc.stats.poisson(4)\n",
    "dist.pmf(0) + dist.pmf(1) + dist.pmf(2), dist.cdf(2)"
   ]
  },
  {
   "source": [
    "* 풀이2-2:\n",
    "   * $lambda = 8$ 인 $Poisson$ 분포의 $P(X<=4)$ 와 $P(X<=5)$ 를 구해본다."
   ],
   "cell_type": "markdown",
   "metadata": {}
  },
  {
   "cell_type": "code",
   "execution_count": 12,
   "metadata": {},
   "outputs": [
    {
     "output_type": "execute_result",
     "data": {
      "text/plain": [
       "(0.6288369351798734, 0.7851303870304052)"
      ]
     },
     "metadata": {},
     "execution_count": 12
    }
   ],
   "source": [
    "dist2 = sc.stats.poisson(8)\n",
    "dist.cdf(4), dist.cdf(5)"
   ]
  },
  {
   "cell_type": "code",
   "execution_count": null,
   "metadata": {},
   "outputs": [],
   "source": []
  }
 ]
}