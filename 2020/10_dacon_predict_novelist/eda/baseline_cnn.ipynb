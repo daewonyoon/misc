{
 "metadata": {
  "language_info": {
   "codemirror_mode": {
    "name": "ipython",
    "version": 3
   },
   "file_extension": ".py",
   "mimetype": "text/x-python",
   "name": "python",
   "nbconvert_exporter": "python",
   "pygments_lexer": "ipython3",
   "version": "3.8.2-final"
  },
  "orig_nbformat": 2,
  "kernelspec": {
   "name": "Python 3.8.2 64-bit ('env3864')",
   "display_name": "Python 3.8.2 64-bit ('env3864')",
   "metadata": {
    "interpreter": {
     "hash": "8d8be4a904752a1952ba4dc0579b68e105f90a4de4e3717abd1d6c50488bc48b"
    }
   }
  }
 },
 "nbformat": 4,
 "nbformat_minor": 2,
 "cells": [
  {
   "cell_type": "code",
   "execution_count": 26,
   "metadata": {},
   "outputs": [],
   "source": [
    "import pandas as pd\n",
    "import numpy as np\n",
    "import tensorflow as tf\n",
    "from tensorflow.keras.preprocessing.sequence import pad_sequences\n",
    "from tensorflow.keras.preprocessing.text import Tokenizer\n",
    "import re\n",
    "\n",
    "import os\n"
   ]
  },
  {
   "cell_type": "code",
   "execution_count": 27,
   "metadata": {},
   "outputs": [],
   "source": [
    "def get_dat_dir_path()->str:\n",
    "    return os.path.abspath('../dat')\n",
    "    \n",
    "def get_chk_dir_path()->str:\n",
    "    return os.path.abspath('../chk')\n",
    "\n",
    "def get_train_csv_path()->str:\n",
    "    dat_dir = get_dat_dir_path()\n",
    "    # print(dat_dir)\n",
    "    return os.path.join(dat_dir, \"train.csv\")\n",
    "\n",
    "def get_test_csv_path()->str:\n",
    "    dat_dir = get_dat_dir_path()\n",
    "    return os.path.join(dat_dir, \"test_x.csv\")\n",
    "\n",
    "def get_sample_sub_path()->str:\n",
    "    dat_dir = get_dat_dir_path()\n",
    "    return os.path.join(dat_dir, \"sample_submission.csv\")\n"
   ]
  },
  {
   "cell_type": "code",
   "execution_count": 28,
   "metadata": {},
   "outputs": [],
   "source": [
    "train = pd.read_csv(get_train_csv_path())\n",
    "test = pd.read_csv(get_test_csv_path())\n",
    "sample_submission = pd.read_csv(get_sample_sub_path())"
   ]
  },
  {
   "cell_type": "code",
   "execution_count": 29,
   "metadata": {},
   "outputs": [],
   "source": [
    "# preprocesscing"
   ]
  },
  {
   "cell_type": "code",
   "execution_count": 30,
   "metadata": {},
   "outputs": [],
   "source": [
    "def alpha_num(txt:str)->str:\n",
    "    return re.sub(r\"[^A-Za-z0-9 ]\", \"\", txt)\n",
    "\n",
    "train[\"text\"] = train[\"text\"].apply(alpha_num)"
   ]
  },
  {
   "cell_type": "code",
   "execution_count": 31,
   "metadata": {},
   "outputs": [
    {
     "output_type": "execute_result",
     "data": {
      "text/plain": [
       "       index                                               text  author\n",
       "0          0  He was almost choking There was so much so muc...       3\n",
       "1          1                 Your sister asked for it I suppose       2\n",
       "2          2   She was engaged one day as she walked in peru...       1\n",
       "3          3  The captain was in the porch keeping himself c...       4\n",
       "4          4  Have mercy gentlemen odin flung up his hands D...       3\n",
       "...      ...                                                ...     ...\n",
       "54874  54874  Is that you Mr Smith odin whispered I hardly d...       2\n",
       "54875  54875  I told my plan to the captain and between us w...       4\n",
       "54876  54876   Your sincere wellwisher friend and sister LUC...       1\n",
       "54877  54877               Then you wanted me to lend you money       3\n",
       "54878  54878  It certainly had not occurred to me before but...       0\n",
       "\n",
       "[54879 rows x 3 columns]"
      ],
      "text/html": "<div>\n<style scoped>\n    .dataframe tbody tr th:only-of-type {\n        vertical-align: middle;\n    }\n\n    .dataframe tbody tr th {\n        vertical-align: top;\n    }\n\n    .dataframe thead th {\n        text-align: right;\n    }\n</style>\n<table border=\"1\" class=\"dataframe\">\n  <thead>\n    <tr style=\"text-align: right;\">\n      <th></th>\n      <th>index</th>\n      <th>text</th>\n      <th>author</th>\n    </tr>\n  </thead>\n  <tbody>\n    <tr>\n      <th>0</th>\n      <td>0</td>\n      <td>He was almost choking There was so much so muc...</td>\n      <td>3</td>\n    </tr>\n    <tr>\n      <th>1</th>\n      <td>1</td>\n      <td>Your sister asked for it I suppose</td>\n      <td>2</td>\n    </tr>\n    <tr>\n      <th>2</th>\n      <td>2</td>\n      <td>She was engaged one day as she walked in peru...</td>\n      <td>1</td>\n    </tr>\n    <tr>\n      <th>3</th>\n      <td>3</td>\n      <td>The captain was in the porch keeping himself c...</td>\n      <td>4</td>\n    </tr>\n    <tr>\n      <th>4</th>\n      <td>4</td>\n      <td>Have mercy gentlemen odin flung up his hands D...</td>\n      <td>3</td>\n    </tr>\n    <tr>\n      <th>...</th>\n      <td>...</td>\n      <td>...</td>\n      <td>...</td>\n    </tr>\n    <tr>\n      <th>54874</th>\n      <td>54874</td>\n      <td>Is that you Mr Smith odin whispered I hardly d...</td>\n      <td>2</td>\n    </tr>\n    <tr>\n      <th>54875</th>\n      <td>54875</td>\n      <td>I told my plan to the captain and between us w...</td>\n      <td>4</td>\n    </tr>\n    <tr>\n      <th>54876</th>\n      <td>54876</td>\n      <td>Your sincere wellwisher friend and sister LUC...</td>\n      <td>1</td>\n    </tr>\n    <tr>\n      <th>54877</th>\n      <td>54877</td>\n      <td>Then you wanted me to lend you money</td>\n      <td>3</td>\n    </tr>\n    <tr>\n      <th>54878</th>\n      <td>54878</td>\n      <td>It certainly had not occurred to me before but...</td>\n      <td>0</td>\n    </tr>\n  </tbody>\n</table>\n<p>54879 rows × 3 columns</p>\n</div>"
     },
     "metadata": {},
     "execution_count": 31
    }
   ],
   "source": [
    "train"
   ]
  },
  {
   "cell_type": "code",
   "execution_count": 32,
   "metadata": {},
   "outputs": [],
   "source": [
    "stopwords = [ \"a\", \"about\", \"above\", \"after\", \"again\", \"against\", \"all\", \"am\", \"an\", \"and\", \"any\", \"are\", \"as\", \n",
    "             \"at\", \"be\", \"because\", \"been\", \"before\", \"being\", \"below\", \"between\", \"both\", \"but\", \"by\", \"could\", \n",
    "             \"did\", \"do\", \"does\", \"doing\", \"down\", \"during\", \"each\", \"few\", \"for\", \"from\", \"further\", \"had\", \"has\", \n",
    "             \"have\", \"having\", \"he\", \"he'd\", \"he'll\", \"he's\", \"her\", \"here\", \"here's\", \"hers\", \"herself\", \"him\", \"himself\", \n",
    "             \"his\", \"how\", \"how's\", \"i\", \"i'd\", \"i'll\", \"i'm\", \"i've\", \"if\", \"in\", \"into\", \"is\", \"it\", \"it's\", \"its\", \"itself\", \n",
    "             \"let's\", \"me\", \"more\", \"most\", \"my\", \"myself\", \"nor\", \"of\", \"on\", \"once\", \"only\", \"or\", \"other\", \"ought\", \"our\", \"ours\", \n",
    "             \"ourselves\", \"out\", \"over\", \"own\", \"same\", \"she\", \"she'd\", \"she'll\", \"she's\", \"should\", \"so\", \"some\", \"such\", \"than\", \"that\", \n",
    "             \"that's\", \"the\", \"their\", \"theirs\", \"them\", \"themselves\", \"then\", \"there\", \"there's\", \"these\", \"they\", \"they'd\", \"they'll\", \n",
    "             \"they're\", \"they've\", \"this\", \"those\", \"through\", \"to\", \"too\", \"under\", \"until\", \"up\", \"very\", \"was\", \"we\", \"we'd\", \"we'll\", \n",
    "             \"we're\", \"we've\", \"were\", \"what\", \"what's\", \"when\", \"when's\", \"where\", \"where's\", \"which\", \"while\", \"who\", \"who's\", \"whom\", \n",
    "             \"why\", \"why's\", \"with\", \"would\", \"you\", \"you'd\", \"you'll\", \"you're\", \"you've\", \"your\", \"yours\", \"yourself\", \"yourselves\" ]\n",
    "\n",
    "def remove_stopwords(text:str) -> str:\n",
    "    final_txt = []\n",
    "    for i in text.split():\n",
    "        if i.strip().lower() not in stopwords:\n",
    "            final_txt.append(i.strip())\n",
    "    return \" \".join(final_txt)"
   ]
  },
  {
   "cell_type": "code",
   "execution_count": 33,
   "metadata": {},
   "outputs": [],
   "source": [
    "train[\"text\"] = train[\"text\"].apply(alpha_num).apply(remove_stopwords)\n",
    "test[\"text\"] = test[\"text\"].apply(alpha_num).apply(remove_stopwords)"
   ]
  },
  {
   "cell_type": "code",
   "execution_count": 34,
   "metadata": {},
   "outputs": [
    {
     "output_type": "execute_result",
     "data": {
      "text/plain": [
       "       index                                               text  author\n",
       "0          0  almost choking much much wanted say strange ex...       3\n",
       "1          1                               sister asked suppose       2\n",
       "2          2  engaged one day walked perusing Janes last let...       1\n",
       "3          3  captain porch keeping carefully way treacherou...       4\n",
       "4          4  mercy gentlemen odin flung hands Dont write an...       3\n",
       "...      ...                                                ...     ...\n",
       "54874  54874     Mr Smith odin whispered hardly dared hope come       2\n",
       "54875  54875  told plan captain us settled details accomplis...       4\n",
       "54876  54876         sincere wellwisher friend sister LUCY odin       1\n",
       "54877  54877                                  wanted lend money       3\n",
       "54878  54878               certainly not occurred said Yes like       0\n",
       "\n",
       "[54879 rows x 3 columns]"
      ],
      "text/html": "<div>\n<style scoped>\n    .dataframe tbody tr th:only-of-type {\n        vertical-align: middle;\n    }\n\n    .dataframe tbody tr th {\n        vertical-align: top;\n    }\n\n    .dataframe thead th {\n        text-align: right;\n    }\n</style>\n<table border=\"1\" class=\"dataframe\">\n  <thead>\n    <tr style=\"text-align: right;\">\n      <th></th>\n      <th>index</th>\n      <th>text</th>\n      <th>author</th>\n    </tr>\n  </thead>\n  <tbody>\n    <tr>\n      <th>0</th>\n      <td>0</td>\n      <td>almost choking much much wanted say strange ex...</td>\n      <td>3</td>\n    </tr>\n    <tr>\n      <th>1</th>\n      <td>1</td>\n      <td>sister asked suppose</td>\n      <td>2</td>\n    </tr>\n    <tr>\n      <th>2</th>\n      <td>2</td>\n      <td>engaged one day walked perusing Janes last let...</td>\n      <td>1</td>\n    </tr>\n    <tr>\n      <th>3</th>\n      <td>3</td>\n      <td>captain porch keeping carefully way treacherou...</td>\n      <td>4</td>\n    </tr>\n    <tr>\n      <th>4</th>\n      <td>4</td>\n      <td>mercy gentlemen odin flung hands Dont write an...</td>\n      <td>3</td>\n    </tr>\n    <tr>\n      <th>...</th>\n      <td>...</td>\n      <td>...</td>\n      <td>...</td>\n    </tr>\n    <tr>\n      <th>54874</th>\n      <td>54874</td>\n      <td>Mr Smith odin whispered hardly dared hope come</td>\n      <td>2</td>\n    </tr>\n    <tr>\n      <th>54875</th>\n      <td>54875</td>\n      <td>told plan captain us settled details accomplis...</td>\n      <td>4</td>\n    </tr>\n    <tr>\n      <th>54876</th>\n      <td>54876</td>\n      <td>sincere wellwisher friend sister LUCY odin</td>\n      <td>1</td>\n    </tr>\n    <tr>\n      <th>54877</th>\n      <td>54877</td>\n      <td>wanted lend money</td>\n      <td>3</td>\n    </tr>\n    <tr>\n      <th>54878</th>\n      <td>54878</td>\n      <td>certainly not occurred said Yes like</td>\n      <td>0</td>\n    </tr>\n  </tbody>\n</table>\n<p>54879 rows × 3 columns</p>\n</div>"
     },
     "metadata": {},
     "execution_count": 34
    }
   ],
   "source": [
    "train"
   ]
  },
  {
   "cell_type": "code",
   "execution_count": 35,
   "metadata": {},
   "outputs": [],
   "source": [
    "# x_train = train[\"text\"].values"
   ]
  },
  {
   "cell_type": "code",
   "execution_count": 36,
   "metadata": {},
   "outputs": [],
   "source": [
    "# x_train"
   ]
  },
  {
   "cell_type": "code",
   "execution_count": 37,
   "metadata": {},
   "outputs": [],
   "source": [
    "x_train = np.array([x for x in train[\"text\"]])\n",
    "x_test = np.array([x for x in test[\"text\"]])\n",
    "y_train = np.array([x for x in train[\"author\"]])"
   ]
  },
  {
   "cell_type": "code",
   "execution_count": 38,
   "metadata": {},
   "outputs": [],
   "source": [
    "# x_train"
   ]
  },
  {
   "cell_type": "code",
   "execution_count": 39,
   "metadata": {},
   "outputs": [],
   "source": [
    "# Modeling"
   ]
  },
  {
   "cell_type": "code",
   "execution_count": 40,
   "metadata": {},
   "outputs": [],
   "source": [
    "vocab_size = 20000\n",
    "embedding_dim = 128\n",
    "max_length = 500\n",
    "padding_type = \"post\""
   ]
  },
  {
   "cell_type": "code",
   "execution_count": 41,
   "metadata": {},
   "outputs": [],
   "source": [
    "tokenizer = Tokenizer(num_words=vocab_size)\n",
    "tokenizer.fit_on_texts(x_train)\n",
    "word_index = tokenizer.word_index"
   ]
  },
  {
   "cell_type": "code",
   "execution_count": 42,
   "metadata": {},
   "outputs": [
    {
     "output_type": "execute_result",
     "data": {
      "text/plain": [
       "['odin', 'not', 'said', 'no', 'one', 'mr', 'will', 'upon', 'now', 'man']"
      ]
     },
     "metadata": {},
     "execution_count": 42
    }
   ],
   "source": [
    "list(word_index)[:10]"
   ]
  },
  {
   "cell_type": "code",
   "execution_count": 43,
   "metadata": {},
   "outputs": [],
   "source": [
    "train_sequence = tokenizer.texts_to_sequences(x_train)\n",
    "train_padded = pad_sequences(train_sequence, padding=padding_type, maxlen=max_length)\n",
    "\n",
    "test_sequence = tokenizer.texts_to_sequences(x_test)\n",
    "test_padded = pad_sequences(test_sequence, padding=padding_type, maxlen=max_length)"
   ]
  },
  {
   "cell_type": "code",
   "execution_count": 44,
   "metadata": {},
   "outputs": [
    {
     "output_type": "execute_result",
     "data": {
      "text/plain": [
       "array([[  141,  7259,    20, ...,     0,     0,     0],\n",
       "       [  217,    58,   221, ...,     0,     0,     0],\n",
       "       [  682,     5,    59, ...,     0,     0,     0],\n",
       "       ...,\n",
       "       [ 2407, 19738,   126, ...,     0,     0,     0],\n",
       "       [  316,  3532,   164, ...,     0,     0,     0],\n",
       "       [  203,     2,   811, ...,     0,     0,     0]], dtype=int32)"
      ]
     },
     "metadata": {},
     "execution_count": 44
    }
   ],
   "source": [
    "train_padded"
   ]
  },
  {
   "cell_type": "code",
   "execution_count": 45,
   "metadata": {},
   "outputs": [],
   "source": [
    "############################################################################\n",
    "## this model part is from 텐서플로2와 머신러닝으로 시작하는 자연어처리 04. 텍스트분류\n",
    "############################################################################\n",
    "\n",
    "model_name = \"cnn_classifier_en\"\n",
    "BATCH_SIZE=512\n",
    "NUM_EPOCHS=10\n",
    "VALID_SPLIT=0.1\n",
    "MAX_LEN=train_padded.shape[1]\n",
    "\n",
    "kargs = {\n",
    "    \"model_name\": model_name,\n",
    "    \"vocab_size\": vocab_size,\n",
    "    \"embedding_size\": 128,\n",
    "    \"num_filters\": 100,\n",
    "    \"dropout_rate\": .5,\n",
    "    \"hidden_dimension\": 250,\n",
    "    \"output_dimension\": 5\n",
    "}"
   ]
  },
  {
   "cell_type": "code",
   "execution_count": 46,
   "metadata": {},
   "outputs": [],
   "source": [
    "class CNNClassifier(tf.keras.Model):\n",
    "    def __init__(self, **kargs):\n",
    "        super(CNNClassifier, self).__init__(name=kargs[\"model_name\"])\n",
    "        self.embedding = tf.keras.layers.Embedding(input_dim=kargs[\"vocab_size\"],\n",
    "                                                   output_dim=kargs[\"embedding_size\"])\n",
    "        self.conv_list = [ tf.keras.layers.Conv1D(filters=kargs[\"num_filters\"],\n",
    "                                                  kernel_size=kernel_size,   \n",
    "                                                  padding=\"valid\", \n",
    "                                                  activation=\"relu\", \n",
    "                                                  kernel_constraint=tf.keras.constraints.MaxNorm(max_value=3.))\n",
    "                            for kernel_size in [3,4,5] ]\n",
    "        self.pooling = tf.keras.layers.GlobalMaxPooling1D()\n",
    "        self.dropout = tf.keras.layers.Dropout(kargs[\"dropout_rate\"])\n",
    "        self.fc1 = tf.keras.layers.Dense(units=kargs[\"hidden_dimension\"], activation=\"relu\", \n",
    "                                         kernel_constraint=tf.keras.constraints.MaxNorm(max_value=3.)\n",
    "                                         )\n",
    "        self.fc2 = tf.keras.layers.Dense(units=kargs[\"output_dimension\"], activation=\"softmax\",\n",
    "                                         kernel_constraint=tf.keras.constraints.MaxNorm(max_value=3.)\n",
    "                                         )\n",
    "\n",
    "\n",
    "    def call(self, x):\n",
    "        x = self.embedding(x)\n",
    "        x = self.dropout(x)\n",
    "        x = tf.concat([self.pooling(conv(x)) for conv in self.conv_list], axis=-1)\n",
    "        x = self.fc1(x)\n",
    "        x = self.fc2(x)\n",
    "\n",
    "        return x                                         \n"
   ]
  },
  {
   "cell_type": "code",
   "execution_count": 47,
   "metadata": {},
   "outputs": [],
   "source": [
    "model = CNNClassifier(**kargs)\n"
   ]
  },
  {
   "cell_type": "code",
   "execution_count": 48,
   "metadata": {},
   "outputs": [
    {
     "output_type": "stream",
     "name": "stdout",
     "text": [
      "Model: \"cnn_classifier_en\"\n_________________________________________________________________\nLayer (type)                 Output Shape              Param #   \n=================================================================\nembedding_1 (Embedding)      multiple                  2560000   \n_________________________________________________________________\nconv1d_3 (Conv1D)            multiple                  38500     \n_________________________________________________________________\nconv1d_4 (Conv1D)            multiple                  51300     \n_________________________________________________________________\nconv1d_5 (Conv1D)            multiple                  64100     \n_________________________________________________________________\nglobal_max_pooling1d_1 (Glob multiple                  0         \n_________________________________________________________________\ndropout_1 (Dropout)          multiple                  0         \n_________________________________________________________________\ndense_2 (Dense)              multiple                  75250     \n_________________________________________________________________\ndense_3 (Dense)              multiple                  1255      \n=================================================================\nTotal params: 2,790,405\nTrainable params: 2,790,405\nNon-trainable params: 0\n_________________________________________________________________\nNone\n"
     ]
    }
   ],
   "source": [
    "model.compile(loss=\"sparse_categorical_crossentropy\",\n",
    "              optimizer=\"adam\",\n",
    "              metrics=[\"accuracy\"])\n",
    "model.build(train_padded.shape)\n",
    "print(model.summary())            "
   ]
  },
  {
   "cell_type": "code",
   "execution_count": 51,
   "metadata": {},
   "outputs": [
    {
     "output_type": "stream",
     "name": "stdout",
     "text": [
      "Epoch 1/10\n",
      "\n",
      "Epoch 00001: val_accuracy improved from -inf to 0.55977, saving model to /Users/daewonyoon/github/daewonyoon/misc/2020/10_dacon_predict_novelist/chk/cnn_classifier_en/weights.h5\n",
      "97/97 - 147s - loss: 1.4240 - accuracy: 0.3940 - val_loss: 1.1249 - val_accuracy: 0.5598\n",
      "Epoch 2/10\n",
      "\n",
      "Epoch 00002: val_accuracy improved from 0.55977 to 0.71228, saving model to /Users/daewonyoon/github/daewonyoon/misc/2020/10_dacon_predict_novelist/chk/cnn_classifier_en/weights.h5\n",
      "97/97 - 142s - loss: 0.8717 - accuracy: 0.6728 - val_loss: 0.7690 - val_accuracy: 0.7123\n",
      "Epoch 3/10\n",
      "\n",
      "Epoch 00003: val_accuracy improved from 0.71228 to 0.73998, saving model to /Users/daewonyoon/github/daewonyoon/misc/2020/10_dacon_predict_novelist/chk/cnn_classifier_en/weights.h5\n",
      "97/97 - 142s - loss: 0.6001 - accuracy: 0.7825 - val_loss: 0.7035 - val_accuracy: 0.7400\n",
      "Epoch 4/10\n",
      "\n",
      "Epoch 00004: val_accuracy did not improve from 0.73998\n",
      "97/97 - 146s - loss: 0.4740 - accuracy: 0.8296 - val_loss: 0.7075 - val_accuracy: 0.7394\n",
      "Epoch 5/10\n",
      "\n",
      "Epoch 00005: val_accuracy did not improve from 0.73998\n",
      "97/97 - 147s - loss: 0.3996 - accuracy: 0.8559 - val_loss: 0.7369 - val_accuracy: 0.7343\n"
     ]
    }
   ],
   "source": [
    "#num_epochs = 20\n",
    "earlystop_callback = tf.keras.callbacks.EarlyStopping(monitor=\"val_accuracy\", \n",
    "                                                    min_delta=0.0001, \n",
    "                                                    patience=2)\n",
    "\n",
    "checkpoint_path = os.path.join( get_chk_dir_path(), model_name, \"weights.h5\" )\n",
    "checkpoint_dir = os.path.dirname(checkpoint_path)\n",
    "\n",
    "cp_callback = tf.keras.callbacks.ModelCheckpoint(checkpoint_path, \n",
    "                                                monitor=\"val_accuracy\", \n",
    "                                                verbose=1, \n",
    "                                                save_best_only=True, \n",
    "                                                save_weights_only=True)\n",
    "\n",
    "if not os.path.exists(checkpoint_dir):\n",
    "    os.makedirs(checkpoint_dir, exist_ok=True)\n",
    "\n",
    "history = model.fit(train_padded, y_train, \n",
    "                    batch_size=BATCH_SIZE, \n",
    "                    epochs=NUM_EPOCHS, \n",
    "                    verbose=2, \n",
    "                    validation_split=VALID_SPLIT, \n",
    "                    callbacks=[earlystop_callback, cp_callback])"
   ]
  },
  {
   "cell_type": "code",
   "execution_count": 52,
   "metadata": {},
   "outputs": [],
   "source": [
    "pred = model.predict(test_padded)"
   ]
  },
  {
   "cell_type": "code",
   "execution_count": 53,
   "metadata": {},
   "outputs": [
    {
     "output_type": "execute_result",
     "data": {
      "text/plain": [
       "array([[1.9904643e-03, 1.2089707e-02, 9.2557865e-01, 5.2187432e-02,\n",
       "        8.1537263e-03],\n",
       "       [9.5090695e-02, 7.0567065e-01, 9.4645815e-03, 3.8130987e-02,\n",
       "        1.5164304e-01],\n",
       "       [4.1340652e-01, 5.8451283e-01, 1.0949204e-03, 1.7250596e-04,\n",
       "        8.1317773e-04],\n",
       "       ...,\n",
       "       [1.0811018e-03, 9.9793917e-01, 7.3060196e-06, 9.6551189e-04,\n",
       "        6.8933018e-06],\n",
       "       [1.6137594e-02, 9.8251778e-01, 5.3815992e-04, 5.2907073e-04,\n",
       "        2.7739056e-04],\n",
       "       [9.5007634e-01, 5.6357193e-03, 4.9050138e-03, 6.6119875e-03,\n",
       "        3.2770913e-02]], dtype=float32)"
      ]
     },
     "metadata": {},
     "execution_count": 53
    }
   ],
   "source": [
    "pred"
   ]
  },
  {
   "cell_type": "code",
   "execution_count": 54,
   "metadata": {},
   "outputs": [
    {
     "output_type": "execute_result",
     "data": {
      "text/plain": [
       "(19617, 5)"
      ]
     },
     "metadata": {},
     "execution_count": 54
    }
   ],
   "source": [
    "pred.shape"
   ]
  },
  {
   "cell_type": "code",
   "execution_count": 55,
   "metadata": {},
   "outputs": [
    {
     "output_type": "execute_result",
     "data": {
      "text/plain": [
       "(19617, 500)"
      ]
     },
     "metadata": {},
     "execution_count": 55
    }
   ],
   "source": [
    "test_padded.shape"
   ]
  },
  {
   "cell_type": "code",
   "execution_count": 56,
   "metadata": {},
   "outputs": [
    {
     "output_type": "execute_result",
     "data": {
      "text/plain": [
       "       index         0         1         2         3         4\n",
       "0          0  0.001990  0.012090  0.925579  0.052187  0.008154\n",
       "1          1  0.095091  0.705671  0.009465  0.038131  0.151643\n",
       "2          2  0.413407  0.584513  0.001095  0.000173  0.000813\n",
       "3          3  0.058792  0.000792  0.730282  0.015804  0.194329\n",
       "4          4  0.608498  0.012198  0.004230  0.334077  0.040998\n",
       "...      ...       ...       ...       ...       ...       ...\n",
       "19612  19612  0.000437  0.999486  0.000003  0.000058  0.000016\n",
       "19613  19613  0.019042  0.001783  0.000779  0.000022  0.978375\n",
       "19614  19614  0.001081  0.997939  0.000007  0.000966  0.000007\n",
       "19615  19615  0.016138  0.982518  0.000538  0.000529  0.000277\n",
       "19616  19616  0.950076  0.005636  0.004905  0.006612  0.032771\n",
       "\n",
       "[19617 rows x 6 columns]"
      ],
      "text/html": "<div>\n<style scoped>\n    .dataframe tbody tr th:only-of-type {\n        vertical-align: middle;\n    }\n\n    .dataframe tbody tr th {\n        vertical-align: top;\n    }\n\n    .dataframe thead th {\n        text-align: right;\n    }\n</style>\n<table border=\"1\" class=\"dataframe\">\n  <thead>\n    <tr style=\"text-align: right;\">\n      <th></th>\n      <th>index</th>\n      <th>0</th>\n      <th>1</th>\n      <th>2</th>\n      <th>3</th>\n      <th>4</th>\n    </tr>\n  </thead>\n  <tbody>\n    <tr>\n      <th>0</th>\n      <td>0</td>\n      <td>0.001990</td>\n      <td>0.012090</td>\n      <td>0.925579</td>\n      <td>0.052187</td>\n      <td>0.008154</td>\n    </tr>\n    <tr>\n      <th>1</th>\n      <td>1</td>\n      <td>0.095091</td>\n      <td>0.705671</td>\n      <td>0.009465</td>\n      <td>0.038131</td>\n      <td>0.151643</td>\n    </tr>\n    <tr>\n      <th>2</th>\n      <td>2</td>\n      <td>0.413407</td>\n      <td>0.584513</td>\n      <td>0.001095</td>\n      <td>0.000173</td>\n      <td>0.000813</td>\n    </tr>\n    <tr>\n      <th>3</th>\n      <td>3</td>\n      <td>0.058792</td>\n      <td>0.000792</td>\n      <td>0.730282</td>\n      <td>0.015804</td>\n      <td>0.194329</td>\n    </tr>\n    <tr>\n      <th>4</th>\n      <td>4</td>\n      <td>0.608498</td>\n      <td>0.012198</td>\n      <td>0.004230</td>\n      <td>0.334077</td>\n      <td>0.040998</td>\n    </tr>\n    <tr>\n      <th>...</th>\n      <td>...</td>\n      <td>...</td>\n      <td>...</td>\n      <td>...</td>\n      <td>...</td>\n      <td>...</td>\n    </tr>\n    <tr>\n      <th>19612</th>\n      <td>19612</td>\n      <td>0.000437</td>\n      <td>0.999486</td>\n      <td>0.000003</td>\n      <td>0.000058</td>\n      <td>0.000016</td>\n    </tr>\n    <tr>\n      <th>19613</th>\n      <td>19613</td>\n      <td>0.019042</td>\n      <td>0.001783</td>\n      <td>0.000779</td>\n      <td>0.000022</td>\n      <td>0.978375</td>\n    </tr>\n    <tr>\n      <th>19614</th>\n      <td>19614</td>\n      <td>0.001081</td>\n      <td>0.997939</td>\n      <td>0.000007</td>\n      <td>0.000966</td>\n      <td>0.000007</td>\n    </tr>\n    <tr>\n      <th>19615</th>\n      <td>19615</td>\n      <td>0.016138</td>\n      <td>0.982518</td>\n      <td>0.000538</td>\n      <td>0.000529</td>\n      <td>0.000277</td>\n    </tr>\n    <tr>\n      <th>19616</th>\n      <td>19616</td>\n      <td>0.950076</td>\n      <td>0.005636</td>\n      <td>0.004905</td>\n      <td>0.006612</td>\n      <td>0.032771</td>\n    </tr>\n  </tbody>\n</table>\n<p>19617 rows × 6 columns</p>\n</div>"
     },
     "metadata": {},
     "execution_count": 56
    }
   ],
   "source": [
    "sample_submission[[str(i) for i in range(5)]] = pred\n",
    "sample_submission"
   ]
  },
  {
   "cell_type": "code",
   "execution_count": 57,
   "metadata": {},
   "outputs": [],
   "source": [
    "sample_submission.to_csv(\"submission.csv\", index=False, encoding=\"utf-8\")"
   ]
  },
  {
   "cell_type": "code",
   "execution_count": null,
   "metadata": {},
   "outputs": [],
   "source": []
  }
 ]
}