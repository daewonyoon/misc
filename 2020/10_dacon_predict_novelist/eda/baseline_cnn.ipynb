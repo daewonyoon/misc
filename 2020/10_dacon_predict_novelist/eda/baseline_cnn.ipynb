{
 "metadata": {
  "language_info": {
   "codemirror_mode": {
    "name": "ipython",
    "version": 3
   },
   "file_extension": ".py",
   "mimetype": "text/x-python",
   "name": "python",
   "nbconvert_exporter": "python",
   "pygments_lexer": "ipython3",
   "version": "3.8.2-final"
  },
  "orig_nbformat": 2,
  "kernelspec": {
   "name": "Python 3.8.2 64-bit ('env3864')",
   "display_name": "Python 3.8.2 64-bit ('env3864')",
   "metadata": {
    "interpreter": {
     "hash": "8d8be4a904752a1952ba4dc0579b68e105f90a4de4e3717abd1d6c50488bc48b"
    }
   }
  }
 },
 "nbformat": 4,
 "nbformat_minor": 2,
 "cells": [
  {
   "cell_type": "code",
   "execution_count": 58,
   "metadata": {},
   "outputs": [],
   "source": [
    "import pandas as pd\n",
    "import numpy as np\n",
    "import tensorflow as tf\n",
    "from tensorflow.keras.preprocessing.sequence import pad_sequences\n",
    "from tensorflow.keras.preprocessing.text import Tokenizer\n",
    "import re\n",
    "\n",
    "import os\n",
    "\n",
    "\n",
    "tf.random.set_seed(9999)"
   ]
  },
  {
   "cell_type": "code",
   "execution_count": 59,
   "metadata": {},
   "outputs": [],
   "source": [
    "def get_dat_dir_path()->str:\n",
    "    return os.path.abspath('../dat')\n",
    "    \n",
    "def get_chk_dir_path()->str:\n",
    "    return os.path.abspath('../chk')\n",
    "\n",
    "def get_train_csv_path()->str:\n",
    "    dat_dir = get_dat_dir_path()\n",
    "    # print(dat_dir)\n",
    "    return os.path.join(dat_dir, \"train.csv\")\n",
    "\n",
    "def get_test_csv_path()->str:\n",
    "    dat_dir = get_dat_dir_path()\n",
    "    return os.path.join(dat_dir, \"test_x.csv\")\n",
    "\n",
    "def get_sample_sub_path()->str:\n",
    "    dat_dir = get_dat_dir_path()\n",
    "    return os.path.join(dat_dir, \"sample_submission.csv\")\n"
   ]
  },
  {
   "cell_type": "code",
   "execution_count": 60,
   "metadata": {},
   "outputs": [],
   "source": [
    "train = pd.read_csv(get_train_csv_path())\n",
    "test = pd.read_csv(get_test_csv_path())\n",
    "sample_submission = pd.read_csv(get_sample_sub_path())"
   ]
  },
  {
   "cell_type": "code",
   "execution_count": 61,
   "metadata": {},
   "outputs": [],
   "source": [
    "# preprocesscing"
   ]
  },
  {
   "cell_type": "code",
   "execution_count": 62,
   "metadata": {},
   "outputs": [],
   "source": [
    "def alpha_num(txt:str)->str:\n",
    "    return re.sub(r\"[^A-Za-z0-9 ]\", \"\", txt)\n",
    "\n",
    "train[\"text\"] = train[\"text\"].apply(alpha_num)"
   ]
  },
  {
   "cell_type": "code",
   "execution_count": 63,
   "metadata": {},
   "outputs": [
    {
     "output_type": "execute_result",
     "data": {
      "text/plain": [
       "       index                                               text  author\n",
       "0          0  He was almost choking There was so much so muc...       3\n",
       "1          1                 Your sister asked for it I suppose       2\n",
       "2          2   She was engaged one day as she walked in peru...       1\n",
       "3          3  The captain was in the porch keeping himself c...       4\n",
       "4          4  Have mercy gentlemen odin flung up his hands D...       3\n",
       "...      ...                                                ...     ...\n",
       "54874  54874  Is that you Mr Smith odin whispered I hardly d...       2\n",
       "54875  54875  I told my plan to the captain and between us w...       4\n",
       "54876  54876   Your sincere wellwisher friend and sister LUC...       1\n",
       "54877  54877               Then you wanted me to lend you money       3\n",
       "54878  54878  It certainly had not occurred to me before but...       0\n",
       "\n",
       "[54879 rows x 3 columns]"
      ],
      "text/html": "<div>\n<style scoped>\n    .dataframe tbody tr th:only-of-type {\n        vertical-align: middle;\n    }\n\n    .dataframe tbody tr th {\n        vertical-align: top;\n    }\n\n    .dataframe thead th {\n        text-align: right;\n    }\n</style>\n<table border=\"1\" class=\"dataframe\">\n  <thead>\n    <tr style=\"text-align: right;\">\n      <th></th>\n      <th>index</th>\n      <th>text</th>\n      <th>author</th>\n    </tr>\n  </thead>\n  <tbody>\n    <tr>\n      <th>0</th>\n      <td>0</td>\n      <td>He was almost choking There was so much so muc...</td>\n      <td>3</td>\n    </tr>\n    <tr>\n      <th>1</th>\n      <td>1</td>\n      <td>Your sister asked for it I suppose</td>\n      <td>2</td>\n    </tr>\n    <tr>\n      <th>2</th>\n      <td>2</td>\n      <td>She was engaged one day as she walked in peru...</td>\n      <td>1</td>\n    </tr>\n    <tr>\n      <th>3</th>\n      <td>3</td>\n      <td>The captain was in the porch keeping himself c...</td>\n      <td>4</td>\n    </tr>\n    <tr>\n      <th>4</th>\n      <td>4</td>\n      <td>Have mercy gentlemen odin flung up his hands D...</td>\n      <td>3</td>\n    </tr>\n    <tr>\n      <th>...</th>\n      <td>...</td>\n      <td>...</td>\n      <td>...</td>\n    </tr>\n    <tr>\n      <th>54874</th>\n      <td>54874</td>\n      <td>Is that you Mr Smith odin whispered I hardly d...</td>\n      <td>2</td>\n    </tr>\n    <tr>\n      <th>54875</th>\n      <td>54875</td>\n      <td>I told my plan to the captain and between us w...</td>\n      <td>4</td>\n    </tr>\n    <tr>\n      <th>54876</th>\n      <td>54876</td>\n      <td>Your sincere wellwisher friend and sister LUC...</td>\n      <td>1</td>\n    </tr>\n    <tr>\n      <th>54877</th>\n      <td>54877</td>\n      <td>Then you wanted me to lend you money</td>\n      <td>3</td>\n    </tr>\n    <tr>\n      <th>54878</th>\n      <td>54878</td>\n      <td>It certainly had not occurred to me before but...</td>\n      <td>0</td>\n    </tr>\n  </tbody>\n</table>\n<p>54879 rows × 3 columns</p>\n</div>"
     },
     "metadata": {},
     "execution_count": 63
    }
   ],
   "source": [
    "train"
   ]
  },
  {
   "cell_type": "code",
   "execution_count": 64,
   "metadata": {},
   "outputs": [],
   "source": [
    "stopwords = [ \"a\", \"about\", \"above\", \"after\", \"again\", \"against\", \"all\", \"am\", \"an\", \"and\", \"any\", \"are\", \"as\", \n",
    "             \"at\", \"be\", \"because\", \"been\", \"before\", \"being\", \"below\", \"between\", \"both\", \"but\", \"by\", \"could\", \n",
    "             \"did\", \"do\", \"does\", \"doing\", \"down\", \"during\", \"each\", \"few\", \"for\", \"from\", \"further\", \"had\", \"has\", \n",
    "             \"have\", \"having\", \"he\", \"he'd\", \"he'll\", \"he's\", \"her\", \"here\", \"here's\", \"hers\", \"herself\", \"him\", \"himself\", \n",
    "             \"his\", \"how\", \"how's\", \"i\", \"i'd\", \"i'll\", \"i'm\", \"i've\", \"if\", \"in\", \"into\", \"is\", \"it\", \"it's\", \"its\", \"itself\", \n",
    "             \"let's\", \"me\", \"more\", \"most\", \"my\", \"myself\", \"nor\", \"of\", \"on\", \"once\", \"only\", \"or\", \"other\", \"ought\", \"our\", \"ours\", \n",
    "             \"ourselves\", \"out\", \"over\", \"own\", \"same\", \"she\", \"she'd\", \"she'll\", \"she's\", \"should\", \"so\", \"some\", \"such\", \"than\", \"that\", \n",
    "             \"that's\", \"the\", \"their\", \"theirs\", \"them\", \"themselves\", \"then\", \"there\", \"there's\", \"these\", \"they\", \"they'd\", \"they'll\", \n",
    "             \"they're\", \"they've\", \"this\", \"those\", \"through\", \"to\", \"too\", \"under\", \"until\", \"up\", \"very\", \"was\", \"we\", \"we'd\", \"we'll\", \n",
    "             \"we're\", \"we've\", \"were\", \"what\", \"what's\", \"when\", \"when's\", \"where\", \"where's\", \"which\", \"while\", \"who\", \"who's\", \"whom\", \n",
    "             \"why\", \"why's\", \"with\", \"would\", \"you\", \"you'd\", \"you'll\", \"you're\", \"you've\", \"your\", \"yours\", \"yourself\", \"yourselves\" ]\n",
    "\n",
    "def remove_stopwords(text:str) -> str:\n",
    "    final_txt = []\n",
    "    for i in text.split():\n",
    "        if i.strip().lower() not in stopwords:\n",
    "            final_txt.append(i.strip())\n",
    "    return \" \".join(final_txt)"
   ]
  },
  {
   "cell_type": "code",
   "execution_count": 65,
   "metadata": {},
   "outputs": [],
   "source": [
    "train[\"text\"] = train[\"text\"].apply(alpha_num).apply(remove_stopwords)\n",
    "test[\"text\"] = test[\"text\"].apply(alpha_num).apply(remove_stopwords)"
   ]
  },
  {
   "cell_type": "code",
   "execution_count": 66,
   "metadata": {},
   "outputs": [
    {
     "output_type": "execute_result",
     "data": {
      "text/plain": [
       "       index                                               text  author\n",
       "0          0  almost choking much much wanted say strange ex...       3\n",
       "1          1                               sister asked suppose       2\n",
       "2          2  engaged one day walked perusing Janes last let...       1\n",
       "3          3  captain porch keeping carefully way treacherou...       4\n",
       "4          4  mercy gentlemen odin flung hands Dont write an...       3\n",
       "...      ...                                                ...     ...\n",
       "54874  54874     Mr Smith odin whispered hardly dared hope come       2\n",
       "54875  54875  told plan captain us settled details accomplis...       4\n",
       "54876  54876         sincere wellwisher friend sister LUCY odin       1\n",
       "54877  54877                                  wanted lend money       3\n",
       "54878  54878               certainly not occurred said Yes like       0\n",
       "\n",
       "[54879 rows x 3 columns]"
      ],
      "text/html": "<div>\n<style scoped>\n    .dataframe tbody tr th:only-of-type {\n        vertical-align: middle;\n    }\n\n    .dataframe tbody tr th {\n        vertical-align: top;\n    }\n\n    .dataframe thead th {\n        text-align: right;\n    }\n</style>\n<table border=\"1\" class=\"dataframe\">\n  <thead>\n    <tr style=\"text-align: right;\">\n      <th></th>\n      <th>index</th>\n      <th>text</th>\n      <th>author</th>\n    </tr>\n  </thead>\n  <tbody>\n    <tr>\n      <th>0</th>\n      <td>0</td>\n      <td>almost choking much much wanted say strange ex...</td>\n      <td>3</td>\n    </tr>\n    <tr>\n      <th>1</th>\n      <td>1</td>\n      <td>sister asked suppose</td>\n      <td>2</td>\n    </tr>\n    <tr>\n      <th>2</th>\n      <td>2</td>\n      <td>engaged one day walked perusing Janes last let...</td>\n      <td>1</td>\n    </tr>\n    <tr>\n      <th>3</th>\n      <td>3</td>\n      <td>captain porch keeping carefully way treacherou...</td>\n      <td>4</td>\n    </tr>\n    <tr>\n      <th>4</th>\n      <td>4</td>\n      <td>mercy gentlemen odin flung hands Dont write an...</td>\n      <td>3</td>\n    </tr>\n    <tr>\n      <th>...</th>\n      <td>...</td>\n      <td>...</td>\n      <td>...</td>\n    </tr>\n    <tr>\n      <th>54874</th>\n      <td>54874</td>\n      <td>Mr Smith odin whispered hardly dared hope come</td>\n      <td>2</td>\n    </tr>\n    <tr>\n      <th>54875</th>\n      <td>54875</td>\n      <td>told plan captain us settled details accomplis...</td>\n      <td>4</td>\n    </tr>\n    <tr>\n      <th>54876</th>\n      <td>54876</td>\n      <td>sincere wellwisher friend sister LUCY odin</td>\n      <td>1</td>\n    </tr>\n    <tr>\n      <th>54877</th>\n      <td>54877</td>\n      <td>wanted lend money</td>\n      <td>3</td>\n    </tr>\n    <tr>\n      <th>54878</th>\n      <td>54878</td>\n      <td>certainly not occurred said Yes like</td>\n      <td>0</td>\n    </tr>\n  </tbody>\n</table>\n<p>54879 rows × 3 columns</p>\n</div>"
     },
     "metadata": {},
     "execution_count": 66
    }
   ],
   "source": [
    "train"
   ]
  },
  {
   "cell_type": "code",
   "execution_count": 67,
   "metadata": {},
   "outputs": [],
   "source": [
    "# x_train = train[\"text\"].values"
   ]
  },
  {
   "cell_type": "code",
   "execution_count": 68,
   "metadata": {},
   "outputs": [],
   "source": [
    "# x_train"
   ]
  },
  {
   "cell_type": "code",
   "execution_count": 69,
   "metadata": {},
   "outputs": [],
   "source": [
    "x_train = np.array([x for x in train[\"text\"]])\n",
    "x_test = np.array([x for x in test[\"text\"]])\n",
    "y_train = np.array([x for x in train[\"author\"]])"
   ]
  },
  {
   "cell_type": "code",
   "execution_count": 70,
   "metadata": {},
   "outputs": [],
   "source": [
    "# x_train"
   ]
  },
  {
   "cell_type": "code",
   "execution_count": 71,
   "metadata": {},
   "outputs": [],
   "source": [
    "# Modeling"
   ]
  },
  {
   "cell_type": "code",
   "execution_count": 72,
   "metadata": {},
   "outputs": [],
   "source": [
    "vocab_size = 20000\n",
    "embedding_dim = 128\n",
    "max_length = 500\n",
    "padding_type = \"post\""
   ]
  },
  {
   "cell_type": "code",
   "execution_count": 73,
   "metadata": {},
   "outputs": [],
   "source": [
    "tokenizer = Tokenizer(num_words=vocab_size)\n",
    "tokenizer.fit_on_texts(x_train)\n",
    "word_index = tokenizer.word_index"
   ]
  },
  {
   "cell_type": "code",
   "execution_count": 74,
   "metadata": {},
   "outputs": [
    {
     "output_type": "execute_result",
     "data": {
      "text/plain": [
       "['odin', 'not', 'said', 'no', 'one', 'mr', 'will', 'upon', 'now', 'man']"
      ]
     },
     "metadata": {},
     "execution_count": 74
    }
   ],
   "source": [
    "list(word_index)[:10]"
   ]
  },
  {
   "cell_type": "code",
   "execution_count": 75,
   "metadata": {},
   "outputs": [],
   "source": [
    "train_sequence = tokenizer.texts_to_sequences(x_train)\n",
    "train_padded = pad_sequences(train_sequence, padding=padding_type, maxlen=max_length)\n",
    "\n",
    "test_sequence = tokenizer.texts_to_sequences(x_test)\n",
    "test_padded = pad_sequences(test_sequence, padding=padding_type, maxlen=max_length)"
   ]
  },
  {
   "cell_type": "code",
   "execution_count": 76,
   "metadata": {},
   "outputs": [
    {
     "output_type": "execute_result",
     "data": {
      "text/plain": [
       "array([[  141,  7259,    20, ...,     0,     0,     0],\n",
       "       [  217,    58,   221, ...,     0,     0,     0],\n",
       "       [  682,     5,    59, ...,     0,     0,     0],\n",
       "       ...,\n",
       "       [ 2407, 19738,   126, ...,     0,     0,     0],\n",
       "       [  316,  3532,   164, ...,     0,     0,     0],\n",
       "       [  203,     2,   811, ...,     0,     0,     0]], dtype=int32)"
      ]
     },
     "metadata": {},
     "execution_count": 76
    }
   ],
   "source": [
    "train_padded"
   ]
  },
  {
   "cell_type": "code",
   "execution_count": 77,
   "metadata": {},
   "outputs": [],
   "source": [
    "############################################################################\n",
    "## this model part is from 텐서플로2와 머신러닝으로 시작하는 자연어처리 04. 텍스트분류\n",
    "############################################################################\n",
    "\n",
    "model_name = \"cnn_classifier_en\"\n",
    "BATCH_SIZE=512\n",
    "NUM_EPOCHS=10\n",
    "VALID_SPLIT=0.1\n",
    "MAX_LEN=train_padded.shape[1]\n",
    "\n",
    "kargs = {\n",
    "    \"model_name\": model_name,\n",
    "    \"vocab_size\": vocab_size,\n",
    "    \"embedding_size\": 256,\n",
    "    \"num_filters\": 100,\n",
    "    \"dropout_rate\": .5,\n",
    "    \"hidden_dimension\": 250,\n",
    "    \"output_dimension\": 5\n",
    "}"
   ]
  },
  {
   "cell_type": "code",
   "execution_count": 78,
   "metadata": {},
   "outputs": [],
   "source": [
    "class CNNClassifier(tf.keras.Model):\n",
    "    def __init__(self, **kargs):\n",
    "        super(CNNClassifier, self).__init__(name=kargs[\"model_name\"])\n",
    "        self.embedding = tf.keras.layers.Embedding(input_dim=kargs[\"vocab_size\"],\n",
    "                                                   output_dim=kargs[\"embedding_size\"])\n",
    "        self.conv_list = [ tf.keras.layers.Conv1D(filters=kargs[\"num_filters\"],\n",
    "                                                  kernel_size=kernel_size,   \n",
    "                                                  padding=\"valid\", \n",
    "                                                  activation=\"relu\", \n",
    "                                                  kernel_constraint=tf.keras.constraints.MaxNorm(max_value=3.))\n",
    "                            for kernel_size in [3,4,5,6] ]\n",
    "        self.pooling = tf.keras.layers.GlobalMaxPooling1D()\n",
    "        self.dropout = tf.keras.layers.Dropout(kargs[\"dropout_rate\"])\n",
    "        self.fc1 = tf.keras.layers.Dense(units=kargs[\"hidden_dimension\"], activation=\"relu\", \n",
    "                                         kernel_constraint=tf.keras.constraints.MaxNorm(max_value=3.)\n",
    "                                         )\n",
    "        self.fc2 = tf.keras.layers.Dense(units=kargs[\"output_dimension\"], activation=\"softmax\",\n",
    "                                         kernel_constraint=tf.keras.constraints.MaxNorm(max_value=3.)\n",
    "                                         )\n",
    "\n",
    "\n",
    "    def call(self, x):\n",
    "        x = self.embedding(x)\n",
    "        x = self.dropout(x)\n",
    "        x = tf.concat([self.pooling(conv(x)) for conv in self.conv_list], axis=-1)\n",
    "        x = self.fc1(x)\n",
    "        x = self.fc2(x)\n",
    "\n",
    "        return x                                         \n"
   ]
  },
  {
   "cell_type": "code",
   "execution_count": 79,
   "metadata": {},
   "outputs": [],
   "source": [
    "model = CNNClassifier(**kargs)\n"
   ]
  },
  {
   "cell_type": "code",
   "execution_count": 80,
   "metadata": {},
   "outputs": [
    {
     "output_type": "stream",
     "name": "stdout",
     "text": [
      "Model: \"cnn_classifier_en\"\n_________________________________________________________________\nLayer (type)                 Output Shape              Param #   \n=================================================================\nembedding_2 (Embedding)      multiple                  5120000   \n_________________________________________________________________\nconv1d_6 (Conv1D)            multiple                  76900     \n_________________________________________________________________\nconv1d_7 (Conv1D)            multiple                  102500    \n_________________________________________________________________\nconv1d_8 (Conv1D)            multiple                  128100    \n_________________________________________________________________\nconv1d_9 (Conv1D)            multiple                  153700    \n_________________________________________________________________\nglobal_max_pooling1d_2 (Glob multiple                  0         \n_________________________________________________________________\ndropout_2 (Dropout)          multiple                  0         \n_________________________________________________________________\ndense_4 (Dense)              multiple                  100250    \n_________________________________________________________________\ndense_5 (Dense)              multiple                  1255      \n=================================================================\nTotal params: 5,682,705\nTrainable params: 5,682,705\nNon-trainable params: 0\n_________________________________________________________________\nNone\n"
     ]
    }
   ],
   "source": [
    "model.compile(loss=\"sparse_categorical_crossentropy\",\n",
    "              optimizer=\"adam\",\n",
    "              metrics=[\"accuracy\"])\n",
    "model.build(train_padded.shape)\n",
    "print(model.summary())            "
   ]
  },
  {
   "cell_type": "code",
   "execution_count": 81,
   "metadata": {},
   "outputs": [
    {
     "output_type": "stream",
     "name": "stdout",
     "text": [
      "Epoch 1/10\n",
      "\n",
      "Epoch 00001: val_accuracy improved from -inf to 0.65543, saving model to /Users/daewonyoon/github/daewonyoon/misc/2020/10_dacon_predict_novelist/chk/cnn_classifier_en/weights.h5\n",
      "97/97 - 343s - loss: 1.3260 - accuracy: 0.4499 - val_loss: 0.9385 - val_accuracy: 0.6554\n",
      "Epoch 2/10\n",
      "\n",
      "Epoch 00002: val_accuracy improved from 0.65543 to 0.74016, saving model to /Users/daewonyoon/github/daewonyoon/misc/2020/10_dacon_predict_novelist/chk/cnn_classifier_en/weights.h5\n",
      "97/97 - 346s - loss: 0.7299 - accuracy: 0.7329 - val_loss: 0.7021 - val_accuracy: 0.7402\n",
      "Epoch 3/10\n",
      "\n",
      "Epoch 00003: val_accuracy improved from 0.74016 to 0.74854, saving model to /Users/daewonyoon/github/daewonyoon/misc/2020/10_dacon_predict_novelist/chk/cnn_classifier_en/weights.h5\n",
      "97/97 - 363s - loss: 0.5024 - accuracy: 0.8186 - val_loss: 0.6857 - val_accuracy: 0.7485\n",
      "Epoch 4/10\n",
      "\n",
      "Epoch 00004: val_accuracy did not improve from 0.74854\n",
      "97/97 - 356s - loss: 0.3910 - accuracy: 0.8585 - val_loss: 0.7141 - val_accuracy: 0.7431\n",
      "Epoch 5/10\n",
      "\n",
      "Epoch 00005: val_accuracy did not improve from 0.74854\n",
      "97/97 - 352s - loss: 0.3210 - accuracy: 0.8834 - val_loss: 0.7638 - val_accuracy: 0.7371\n"
     ]
    }
   ],
   "source": [
    "#num_epochs = 20\n",
    "earlystop_callback = tf.keras.callbacks.EarlyStopping(monitor=\"val_accuracy\", \n",
    "                                                    min_delta=0.0001, \n",
    "                                                    patience=2)\n",
    "\n",
    "checkpoint_path = os.path.join( get_chk_dir_path(), model_name, \"weights.h5\" )\n",
    "checkpoint_dir = os.path.dirname(checkpoint_path)\n",
    "\n",
    "cp_callback = tf.keras.callbacks.ModelCheckpoint(checkpoint_path, \n",
    "                                                monitor=\"val_accuracy\", \n",
    "                                                verbose=1, \n",
    "                                                save_best_only=True, \n",
    "                                                save_weights_only=True)\n",
    "\n",
    "if not os.path.exists(checkpoint_dir):\n",
    "    os.makedirs(checkpoint_dir, exist_ok=True)\n",
    "\n",
    "history = model.fit(train_padded, y_train, \n",
    "                    batch_size=BATCH_SIZE, \n",
    "                    epochs=NUM_EPOCHS, \n",
    "                    verbose=2, \n",
    "                    validation_split=VALID_SPLIT, \n",
    "                    callbacks=[earlystop_callback, cp_callback])"
   ]
  },
  {
   "cell_type": "code",
   "execution_count": 88,
   "metadata": {},
   "outputs": [],
   "source": [
    "model.load_weights(checkpoint_path)\n",
    "\n",
    "pred = model.predict(test_padded)"
   ]
  },
  {
   "cell_type": "code",
   "execution_count": 89,
   "metadata": {},
   "outputs": [
    {
     "output_type": "execute_result",
     "data": {
      "text/plain": [
       "array([[5.07397130e-02, 5.01002014e-01, 4.01831537e-01, 4.03336622e-02,\n",
       "        6.09306945e-03],\n",
       "       [1.31902099e-01, 7.42414355e-01, 5.64245041e-03, 1.66078806e-02,\n",
       "        1.03433222e-01],\n",
       "       [9.88556445e-01, 1.05835292e-02, 1.11594796e-04, 3.21773783e-04,\n",
       "        4.26737737e-04],\n",
       "       ...,\n",
       "       [1.93125650e-03, 9.97475684e-01, 3.52293864e-05, 3.97617434e-04,\n",
       "        1.60166877e-04],\n",
       "       [2.68317647e-02, 9.68994319e-01, 1.06417213e-03, 2.38677370e-03,\n",
       "        7.22960918e-04],\n",
       "       [9.75115299e-01, 4.78760479e-03, 3.23811802e-03, 3.11765587e-03,\n",
       "        1.37413004e-02]], dtype=float32)"
      ]
     },
     "metadata": {},
     "execution_count": 89
    }
   ],
   "source": [
    "pred"
   ]
  },
  {
   "cell_type": "code",
   "execution_count": 90,
   "metadata": {},
   "outputs": [
    {
     "output_type": "execute_result",
     "data": {
      "text/plain": [
       "(19617, 5)"
      ]
     },
     "metadata": {},
     "execution_count": 90
    }
   ],
   "source": [
    "pred.shape"
   ]
  },
  {
   "cell_type": "code",
   "execution_count": 91,
   "metadata": {},
   "outputs": [
    {
     "output_type": "execute_result",
     "data": {
      "text/plain": [
       "(19617, 500)"
      ]
     },
     "metadata": {},
     "execution_count": 91
    }
   ],
   "source": [
    "test_padded.shape"
   ]
  },
  {
   "cell_type": "code",
   "execution_count": 92,
   "metadata": {},
   "outputs": [
    {
     "output_type": "execute_result",
     "data": {
      "text/plain": [
       "       index         0         1         2         3         4\n",
       "0          0  0.050740  0.501002  0.401832  0.040334  0.006093\n",
       "1          1  0.131902  0.742414  0.005642  0.016608  0.103433\n",
       "2          2  0.988556  0.010584  0.000112  0.000322  0.000427\n",
       "3          3  0.113081  0.001731  0.724681  0.011298  0.149210\n",
       "4          4  0.797600  0.023442  0.003550  0.112157  0.063251\n",
       "...      ...       ...       ...       ...       ...       ...\n",
       "19612  19612  0.001191  0.998573  0.000006  0.000138  0.000093\n",
       "19613  19613  0.045008  0.009097  0.003445  0.000186  0.942264\n",
       "19614  19614  0.001931  0.997476  0.000035  0.000398  0.000160\n",
       "19615  19615  0.026832  0.968994  0.001064  0.002387  0.000723\n",
       "19616  19616  0.975115  0.004788  0.003238  0.003118  0.013741\n",
       "\n",
       "[19617 rows x 6 columns]"
      ],
      "text/html": "<div>\n<style scoped>\n    .dataframe tbody tr th:only-of-type {\n        vertical-align: middle;\n    }\n\n    .dataframe tbody tr th {\n        vertical-align: top;\n    }\n\n    .dataframe thead th {\n        text-align: right;\n    }\n</style>\n<table border=\"1\" class=\"dataframe\">\n  <thead>\n    <tr style=\"text-align: right;\">\n      <th></th>\n      <th>index</th>\n      <th>0</th>\n      <th>1</th>\n      <th>2</th>\n      <th>3</th>\n      <th>4</th>\n    </tr>\n  </thead>\n  <tbody>\n    <tr>\n      <th>0</th>\n      <td>0</td>\n      <td>0.050740</td>\n      <td>0.501002</td>\n      <td>0.401832</td>\n      <td>0.040334</td>\n      <td>0.006093</td>\n    </tr>\n    <tr>\n      <th>1</th>\n      <td>1</td>\n      <td>0.131902</td>\n      <td>0.742414</td>\n      <td>0.005642</td>\n      <td>0.016608</td>\n      <td>0.103433</td>\n    </tr>\n    <tr>\n      <th>2</th>\n      <td>2</td>\n      <td>0.988556</td>\n      <td>0.010584</td>\n      <td>0.000112</td>\n      <td>0.000322</td>\n      <td>0.000427</td>\n    </tr>\n    <tr>\n      <th>3</th>\n      <td>3</td>\n      <td>0.113081</td>\n      <td>0.001731</td>\n      <td>0.724681</td>\n      <td>0.011298</td>\n      <td>0.149210</td>\n    </tr>\n    <tr>\n      <th>4</th>\n      <td>4</td>\n      <td>0.797600</td>\n      <td>0.023442</td>\n      <td>0.003550</td>\n      <td>0.112157</td>\n      <td>0.063251</td>\n    </tr>\n    <tr>\n      <th>...</th>\n      <td>...</td>\n      <td>...</td>\n      <td>...</td>\n      <td>...</td>\n      <td>...</td>\n      <td>...</td>\n    </tr>\n    <tr>\n      <th>19612</th>\n      <td>19612</td>\n      <td>0.001191</td>\n      <td>0.998573</td>\n      <td>0.000006</td>\n      <td>0.000138</td>\n      <td>0.000093</td>\n    </tr>\n    <tr>\n      <th>19613</th>\n      <td>19613</td>\n      <td>0.045008</td>\n      <td>0.009097</td>\n      <td>0.003445</td>\n      <td>0.000186</td>\n      <td>0.942264</td>\n    </tr>\n    <tr>\n      <th>19614</th>\n      <td>19614</td>\n      <td>0.001931</td>\n      <td>0.997476</td>\n      <td>0.000035</td>\n      <td>0.000398</td>\n      <td>0.000160</td>\n    </tr>\n    <tr>\n      <th>19615</th>\n      <td>19615</td>\n      <td>0.026832</td>\n      <td>0.968994</td>\n      <td>0.001064</td>\n      <td>0.002387</td>\n      <td>0.000723</td>\n    </tr>\n    <tr>\n      <th>19616</th>\n      <td>19616</td>\n      <td>0.975115</td>\n      <td>0.004788</td>\n      <td>0.003238</td>\n      <td>0.003118</td>\n      <td>0.013741</td>\n    </tr>\n  </tbody>\n</table>\n<p>19617 rows × 6 columns</p>\n</div>"
     },
     "metadata": {},
     "execution_count": 92
    }
   ],
   "source": [
    "sample_submission[[str(i) for i in range(5)]] = pred\n",
    "sample_submission"
   ]
  },
  {
   "cell_type": "code",
   "execution_count": 93,
   "metadata": {},
   "outputs": [],
   "source": [
    "sample_submission.to_csv(\"submission_cnn.csv\", index=False, encoding=\"utf-8\")"
   ]
  },
  {
   "cell_type": "code",
   "execution_count": null,
   "metadata": {},
   "outputs": [],
   "source": []
  }
 ]
}