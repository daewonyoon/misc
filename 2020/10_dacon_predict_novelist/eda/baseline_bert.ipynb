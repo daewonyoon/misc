{
 "metadata": {
  "language_info": {
   "codemirror_mode": {
    "name": "ipython",
    "version": 3
   },
   "file_extension": ".py",
   "mimetype": "text/x-python",
   "name": "python",
   "nbconvert_exporter": "python",
   "pygments_lexer": "ipython3",
   "version": "3.7.4-final"
  },
  "orig_nbformat": 2,
  "kernelspec": {
   "name": "Python 3.7.4 64-bit ('aigpu_tf2_3764')",
   "display_name": "Python 3.7.4 64-bit ('aigpu_tf2_3764')",
   "metadata": {
    "interpreter": {
     "hash": "cbcea456bf69a04d60ee9b2a0a68c1502ddf9061e41efdbaf392f7b3ea44d62c"
    }
   }
  }
 },
 "nbformat": 4,
 "nbformat_minor": 2,
 "cells": [
  {
   "cell_type": "code",
   "execution_count": 1,
   "metadata": {},
   "outputs": [],
   "source": [
    "import os\n",
    "import re\n",
    "\n",
    "import pandas as pd\n",
    "import numpy as np\n",
    "import tensorflow as tf\n",
    "from tensorflow.keras.preprocessing.sequence import pad_sequences\n",
    "from tensorflow.keras.preprocessing.text import Tokenizer\n",
    "\n",
    "from transformers import BertTokenizer, TFBertModel\n",
    "from tqdm import tqdm\n",
    "\n",
    "\n",
    "tf.random.set_seed(9999)"
   ]
  },
  {
   "cell_type": "code",
   "execution_count": 2,
   "metadata": {},
   "outputs": [],
   "source": [
    "def get_chk_dir_path()->str:\n",
    "    return os.path.abspath('../chk')    \n",
    "\n",
    "def get_dat_dir_path()->str:\n",
    "    return os.path.abspath('../dat')\n",
    "\n",
    "def get_train_csv_path()->str:\n",
    "    dat_dir = get_dat_dir_path()\n",
    "    # print(dat_dir)\n",
    "    return os.path.join(dat_dir, \"train.csv\")\n",
    "\n",
    "def get_test_csv_path()->str:\n",
    "    dat_dir = get_dat_dir_path()\n",
    "    return os.path.join(dat_dir, \"test_x.csv\")\n",
    "\n",
    "def get_sample_sub_path()->str:\n",
    "    dat_dir = get_dat_dir_path()\n",
    "    return os.path.join(dat_dir, \"sample_submission.csv\")\n"
   ]
  },
  {
   "cell_type": "code",
   "execution_count": 3,
   "metadata": {},
   "outputs": [],
   "source": [
    "BATCH_SIZE = 8\n",
    "NUM_EPOCHS = 5\n",
    "VALID_SPLIT = 0.2\n",
    "MAX_LEN = 200\n",
    "BERT_PRETRAIND_MODEL = \"bert-base-cased\""
   ]
  },
  {
   "cell_type": "code",
   "execution_count": 4,
   "metadata": {},
   "outputs": [],
   "source": [
    "#### 텐서플로2 자연어처리 7장\n",
    "\n",
    "tokenizer = BertTokenizer.from_pretrained(BERT_PRETRAIND_MODEL)\n",
    "\n",
    "\n",
    "def bert_tokenizer(sent: str, max_length: int):\n",
    "\n",
    "    encoded_dict = tokenizer.encode_plus(\n",
    "        text=sent,\n",
    "        add_special_tokens=True,\n",
    "        max_length=max_length,\n",
    "        pad_to_max_length=True,\n",
    "        return_attention_mask=True\n",
    "    )\n",
    "\n",
    "    input_id = encoded_dict[\"input_ids\"]\n",
    "    attention_mask = encoded_dict[\"attention_mask\"]\n",
    "    token_type_id = encoded_dict[\"token_type_ids\"]\n",
    "\n",
    "    return input_id, attention_mask, token_type_id"
   ]
  },
  {
   "cell_type": "code",
   "execution_count": 5,
   "metadata": {},
   "outputs": [
    {
     "output_type": "stream",
     "name": "stdout",
     "text": [
      "[101, 8667, 4542, 1139, 1385, 1910, 119, 102]\n[CLS] Hello darkness my old friend. [SEP]\n"
     ]
    }
   ],
   "source": [
    "encoded = tokenizer.encode(\"Hello darkness my old friend.\")\n",
    "print(encoded)\n",
    "decoded = tokenizer.decode(encoded)\n",
    "print(decoded)"
   ]
  },
  {
   "cell_type": "code",
   "execution_count": 6,
   "metadata": {},
   "outputs": [
    {
     "output_type": "stream",
     "name": "stderr",
     "text": [
      "Truncation was not explicitely activated but `max_length` is provided a specific value, please use `truncation=True` to explicitely truncate examples to max length. Defaulting to 'longest_first' truncation strategy. If you encode pairs of sequences (GLUE-style) with the tokenizer you can select this strategy more precisely by providing a specific strategy to `truncation`.\n"
     ]
    },
    {
     "output_type": "execute_result",
     "data": {
      "text/plain": [
       "'[CLS] What should I do for a mended heart, dear [SEP] [PAD] [PAD] [PAD] [PAD] [PAD] [PAD] [PAD] [PAD] [PAD] [PAD] [PAD] [PAD] [PAD] [PAD] [PAD] [PAD] [PAD] [PAD] [PAD] [PAD] [PAD] [PAD] [PAD] [PAD] [PAD] [PAD] [PAD]'"
      ]
     },
     "metadata": {},
     "execution_count": 6
    }
   ],
   "source": [
    "r = bert_tokenizer(\"What should I do for a mended heart, dear\", 40)\n",
    "tokenizer.decode(r[0])"
   ]
  },
  {
   "cell_type": "code",
   "execution_count": 7,
   "metadata": {},
   "outputs": [],
   "source": [
    "train = pd.read_csv(get_train_csv_path())\n",
    "test = pd.read_csv(get_test_csv_path())\n",
    "sample_submission = pd.read_csv(get_sample_sub_path())"
   ]
  },
  {
   "cell_type": "code",
   "execution_count": 8,
   "metadata": {},
   "outputs": [
    {
     "output_type": "execute_result",
     "data": {
      "text/plain": [
       "   index                                               text  author\n",
       "0      0  He was almost choking. There was so much, so m...       3\n",
       "1      1             “Your sister asked for it, I suppose?”       2\n",
       "2      2   She was engaged one day as she walked, in per...       1\n",
       "3      3  The captain was in the porch, keeping himself ...       4\n",
       "4      4  “Have mercy, gentlemen!” odin flung up his han...       3"
      ],
      "text/html": "<div>\n<style scoped>\n    .dataframe tbody tr th:only-of-type {\n        vertical-align: middle;\n    }\n\n    .dataframe tbody tr th {\n        vertical-align: top;\n    }\n\n    .dataframe thead th {\n        text-align: right;\n    }\n</style>\n<table border=\"1\" class=\"dataframe\">\n  <thead>\n    <tr style=\"text-align: right;\">\n      <th></th>\n      <th>index</th>\n      <th>text</th>\n      <th>author</th>\n    </tr>\n  </thead>\n  <tbody>\n    <tr>\n      <th>0</th>\n      <td>0</td>\n      <td>He was almost choking. There was so much, so m...</td>\n      <td>3</td>\n    </tr>\n    <tr>\n      <th>1</th>\n      <td>1</td>\n      <td>“Your sister asked for it, I suppose?”</td>\n      <td>2</td>\n    </tr>\n    <tr>\n      <th>2</th>\n      <td>2</td>\n      <td>She was engaged one day as she walked, in per...</td>\n      <td>1</td>\n    </tr>\n    <tr>\n      <th>3</th>\n      <td>3</td>\n      <td>The captain was in the porch, keeping himself ...</td>\n      <td>4</td>\n    </tr>\n    <tr>\n      <th>4</th>\n      <td>4</td>\n      <td>“Have mercy, gentlemen!” odin flung up his han...</td>\n      <td>3</td>\n    </tr>\n  </tbody>\n</table>\n</div>"
     },
     "metadata": {},
     "execution_count": 8
    }
   ],
   "source": [
    "train.head()"
   ]
  },
  {
   "cell_type": "code",
   "execution_count": 9,
   "metadata": {},
   "outputs": [
    {
     "output_type": "execute_result",
     "data": {
      "text/plain": [
       "   index                                               text\n",
       "0      0  “Not at all. I think she is one of the most ch...\n",
       "1      1  \"No,\" replied he, with sudden consciousness, \"...\n",
       "2      2  As the lady had stated her intention of scream...\n",
       "3      3  “And then suddenly in the silence I heard a so...\n",
       "4      4  His conviction remained unchanged. So far as I..."
      ],
      "text/html": "<div>\n<style scoped>\n    .dataframe tbody tr th:only-of-type {\n        vertical-align: middle;\n    }\n\n    .dataframe tbody tr th {\n        vertical-align: top;\n    }\n\n    .dataframe thead th {\n        text-align: right;\n    }\n</style>\n<table border=\"1\" class=\"dataframe\">\n  <thead>\n    <tr style=\"text-align: right;\">\n      <th></th>\n      <th>index</th>\n      <th>text</th>\n    </tr>\n  </thead>\n  <tbody>\n    <tr>\n      <th>0</th>\n      <td>0</td>\n      <td>“Not at all. I think she is one of the most ch...</td>\n    </tr>\n    <tr>\n      <th>1</th>\n      <td>1</td>\n      <td>\"No,\" replied he, with sudden consciousness, \"...</td>\n    </tr>\n    <tr>\n      <th>2</th>\n      <td>2</td>\n      <td>As the lady had stated her intention of scream...</td>\n    </tr>\n    <tr>\n      <th>3</th>\n      <td>3</td>\n      <td>“And then suddenly in the silence I heard a so...</td>\n    </tr>\n    <tr>\n      <th>4</th>\n      <td>4</td>\n      <td>His conviction remained unchanged. So far as I...</td>\n    </tr>\n  </tbody>\n</table>\n</div>"
     },
     "metadata": {},
     "execution_count": 9
    }
   ],
   "source": [
    "test.head()"
   ]
  },
  {
   "cell_type": "code",
   "execution_count": 10,
   "metadata": {},
   "outputs": [],
   "source": [
    "def transform_texts_to_bert_inputs(texts:pd.Series, MAX_LEN:int):\n",
    "    input_ids = []\n",
    "    attention_masks = []\n",
    "    token_type_ids = []\n",
    "\n",
    "    for train_sent in tqdm(texts):\n",
    "        try:\n",
    "            input_id, attention_mask, token_type_id = bert_tokenizer(train_sent, MAX_LEN)\n",
    "            \n",
    "            input_ids.append(input_id)\n",
    "            attention_masks.append(attention_mask)\n",
    "            token_type_ids.append(token_type_id)\n",
    "\n",
    "        except Exception as e:\n",
    "            print(e)\n",
    "            print(train_sent)\n",
    "            pass\n",
    "\n",
    "    train_movie_input_ids = np.array(input_ids, dtype=int)\n",
    "    train_movie_attention_masks = np.array(attention_masks, dtype=int)\n",
    "    train_movie_type_ids = np.array(token_type_ids, dtype=int)\n",
    "    train_movie_inputs = (train_movie_input_ids, train_movie_attention_masks, train_movie_type_ids)\n",
    "\n",
    "    return train_movie_inputs\n",
    "    "
   ]
  },
  {
   "cell_type": "code",
   "execution_count": 11,
   "metadata": {},
   "outputs": [
    {
     "output_type": "stream",
     "name": "stderr",
     "text": [
      "100%|██████████| 54879/54879 [00:34<00:00, 1571.37it/s]\n",
      "100%|██████████| 19617/19617 [00:23<00:00, 834.16it/s]\n"
     ]
    }
   ],
   "source": [
    "\n",
    "train_bert_inputs = transform_texts_to_bert_inputs(train[\"text\"], MAX_LEN)\n",
    "test_bert_inputs = transform_texts_to_bert_inputs(test[\"text\"], MAX_LEN)"
   ]
  },
  {
   "cell_type": "code",
   "execution_count": 12,
   "metadata": {},
   "outputs": [],
   "source": [
    "############################################################################\n",
    "## this model part is from 텐서플로2와 머신러닝으로 시작하는 자연어처리 07. 텍스트분류\n",
    "############################################################################\n",
    "\n"
   ]
  },
  {
   "cell_type": "code",
   "execution_count": 13,
   "metadata": {},
   "outputs": [],
   "source": [
    "class TFBertClassifier(tf.keras.Model):\n",
    "    def __init__(self, model_name, dir_path, num_class):\n",
    "        super(TFBertClassifier, self).__init__()\n",
    "\n",
    "        self.bert = TFBertModel.from_pretrained(model_name, cache_dir=dir_path)\n",
    "        self.dropout = tf.keras.layers.Dropout(self.bert.config.hidden_dropout_prob)\n",
    "        self.classifier = tf.keras.layers.Dense(num_class,\n",
    "                                                kernel_initializer=tf.keras.initializers.TruncatedNormal(self.bert.config.initializer_range),\n",
    "                                                activation=\"softmax\",\n",
    "                                                name=\"classifier\")\n",
    "    def call(self, inputs, attention_mask=None, token_type_ids=None, training=False):\n",
    "        outputs = self.bert(inputs, attention_mask=attention_mask, token_type_ids=token_type_ids)\n",
    "        pooled_output = outputs[1]\n",
    "        pooled_output = self.dropout(pooled_output, training=training)\n",
    "        logits = self.classifier(pooled_output)\n",
    "        return logits\n",
    "\n",
    "        "
   ]
  },
  {
   "cell_type": "code",
   "execution_count": 14,
   "metadata": {},
   "outputs": [
    {
     "output_type": "stream",
     "name": "stderr",
     "text": [
      "Some layers from the model checkpoint at bert-base-cased were not used when initializing TFBertModel: ['nsp___cls', 'mlm___cls']\n",
      "- This IS expected if you are initializing TFBertModel from the checkpoint of a model trained on another task or with another architecture (e.g. initializing a BertForSequenceClassification model from a BertForPretraining model).\n",
      "- This IS NOT expected if you are initializing TFBertModel from the checkpoint of a model that you expect to be exactly identical (initializing a BertForSequenceClassification model from a BertForSequenceClassification model).\n",
      "All the layers of TFBertModel were initialized from the model checkpoint at bert-base-cased.\n",
      "If your task is similar to the task the model of the checkpoint was trained on, you can already use TFBertModel for predictions without further training.\n"
     ]
    }
   ],
   "source": [
    "model = TFBertClassifier(model_name=BERT_PRETRAIND_MODEL, dir_path=\"bert_ckpt\", num_class=5)\n"
   ]
  },
  {
   "cell_type": "code",
   "execution_count": 15,
   "metadata": {},
   "outputs": [],
   "source": [
    "# 학습 준비하기\n",
    "optimizer = tf.keras.optimizers.Adam(3e-5)\n",
    "loss = tf.keras.losses.SparseCategoricalCrossentropy(from_logits=True)\n",
    "metric = tf.keras.metrics.SparseCategoricalAccuracy('accuracy')\n",
    "model.compile(optimizer=optimizer, loss=\"sparse_categorical_crossentropy\", metrics=[metric])"
   ]
  },
  {
   "cell_type": "code",
   "execution_count": 16,
   "metadata": {},
   "outputs": [],
   "source": [
    "\n",
    "#model.build(train_padded.shape)\n",
    "#print(model.summary())            "
   ]
  },
  {
   "cell_type": "code",
   "execution_count": 17,
   "metadata": {},
   "outputs": [
    {
     "output_type": "stream",
     "name": "stdout",
     "text": [
      "d:\\github\\daewonyoon\\misc\\2020\\10_dacon_predict_novelist\\chk\\bert_classifier_en -- Folder already exists \n",
      "\n",
      "Epoch 1/5\n",
      "5488/5488 [==============================] - ETA: 0s - loss: 0.6199 - accuracy: 0.7682\n",
      "Epoch 00001: val_accuracy improved from -inf to 0.85031, saving model to d:\\github\\daewonyoon\\misc\\2020\\10_dacon_predict_novelist\\chk\\bert_classifier_en\\weights.h5\n",
      "5488/5488 [==============================] - 2165s 395ms/step - loss: 0.6199 - accuracy: 0.7682 - val_loss: 0.4247 - val_accuracy: 0.8503\n",
      "Epoch 2/5\n",
      "5488/5488 [==============================] - ETA: 0s - loss: 0.3051 - accuracy: 0.8932\n",
      "Epoch 00002: val_accuracy improved from 0.85031 to 0.87035, saving model to d:\\github\\daewonyoon\\misc\\2020\\10_dacon_predict_novelist\\chk\\bert_classifier_en\\weights.h5\n",
      "5488/5488 [==============================] - 2169s 395ms/step - loss: 0.3051 - accuracy: 0.8932 - val_loss: 0.3788 - val_accuracy: 0.8704\n",
      "Epoch 3/5\n",
      "5488/5488 [==============================] - ETA: 0s - loss: 0.1726 - accuracy: 0.9405\n",
      "Epoch 00003: val_accuracy did not improve from 0.87035\n",
      "5488/5488 [==============================] - 2169s 395ms/step - loss: 0.1726 - accuracy: 0.9405 - val_loss: 0.4282 - val_accuracy: 0.8621\n",
      "Epoch 4/5\n",
      "5488/5488 [==============================] - ETA: 0s - loss: 0.1144 - accuracy: 0.9612\n",
      "Epoch 00004: val_accuracy did not improve from 0.87035\n",
      "5488/5488 [==============================] - 2171s 396ms/step - loss: 0.1144 - accuracy: 0.9612 - val_loss: 0.4789 - val_accuracy: 0.8639\n",
      "{'loss': [0.6199377775192261, 0.3051068186759949, 0.17255185544490814, 0.11439233273267746], 'accuracy': [0.7681935429573059, 0.8931735754013062, 0.9405279755592346, 0.9611871838569641], 'val_loss': [0.4247288703918457, 0.3788391053676605, 0.42822933197021484, 0.47887152433395386], 'val_accuracy': [0.8503097891807556, 0.8703535199165344, 0.8620626926422119, 0.8638848662376404]}\n"
     ]
    }
   ],
   "source": [
    "model_name = \"bert_classifier_en\"\n",
    "\n",
    "# overfitting을 막기 위한 ealrystop 추가\n",
    "earlystop_callback = tf.keras.callbacks.EarlyStopping(monitor='val_accuracy', min_delta=0.0001,patience=2)\n",
    "# min_delta: the threshold that triggers the termination (acc should at least improve 0.0001)\n",
    "# patience: no improvment epochs (patience = 1, 1번 이상 상승이 없으면 종료)\\\n",
    "\n",
    "checkpoint_path = os.path.join( get_chk_dir_path(), model_name, 'weights.h5')\n",
    "checkpoint_dir = os.path.dirname(checkpoint_path)\n",
    "\n",
    "# Create path if exists\n",
    "if os.path.exists(checkpoint_dir):\n",
    "    print(\"{} -- Folder already exists \\n\".format(checkpoint_dir))\n",
    "else:\n",
    "    os.makedirs(checkpoint_dir, exist_ok=True)\n",
    "    print(\"{} -- Folder create complete \\n\".format(checkpoint_dir))\n",
    "    \n",
    "cp_callback = tf.keras.callbacks.ModelCheckpoint(\n",
    "    checkpoint_path, monitor='val_accuracy', verbose=1, save_best_only=True, save_weights_only=True)\n",
    "\n",
    "# 학습과 eval 시작\n",
    "history = model.fit(train_bert_inputs, train[\"author\"], epochs=NUM_EPOCHS, batch_size=BATCH_SIZE,\n",
    "                    validation_split = VALID_SPLIT, callbacks=[earlystop_callback, cp_callback])\n",
    "\n",
    "#steps_for_epoch\n",
    "\n",
    "print(history.history)"
   ]
  },
  {
   "cell_type": "code",
   "execution_count": 18,
   "metadata": {},
   "outputs": [
    {
     "output_type": "execute_result",
     "data": {
      "text/plain": [
       "'\\n#num_epochs = 20\\nearlystop_callback = tf.keras.callbacks.EarlyStopping(monitor=\"val_accuracy\", \\n                                                    min_delta=0.0001, \\n                                                    patience=2)\\n\\ncheckpoint_path = os.path.join( get_chk_dir_path(), model_name, \"weights.h5\" )\\ncheckpoint_dir = os.path.dirname(checkpoint_path)\\n\\ncp_callback = tf.keras.callbacks.ModelCheckpoint(checkpoint_path, \\n                                                monitor=\"val_accuracy\", \\n                                                verbose=1, \\n                                                save_best_only=True, \\n                                                save_weights_only=True)\\n\\nif not os.path.exists(checkpoint_dir):\\n    os.makedirs(checkpoint_dir, exist_ok=True)\\n\\nhistory = model.fit(train_padded, y_train, \\n                    batch_size=BATCH_SIZE, \\n                    epochs=NUM_EPOCHS, \\n                    verbose=2, \\n                    validation_split=VALID_SPLIT, \\n                    callbacks=[earlystop_callback, cp_callback])\\n'"
      ]
     },
     "metadata": {},
     "execution_count": 18
    }
   ],
   "source": [
    "\n",
    "\"\"\"\n",
    "#num_epochs = 20\n",
    "earlystop_callback = tf.keras.callbacks.EarlyStopping(monitor=\"val_accuracy\", \n",
    "                                                    min_delta=0.0001, \n",
    "                                                    patience=2)\n",
    "\n",
    "checkpoint_path = os.path.join( get_chk_dir_path(), model_name, \"weights.h5\" )\n",
    "checkpoint_dir = os.path.dirname(checkpoint_path)\n",
    "\n",
    "cp_callback = tf.keras.callbacks.ModelCheckpoint(checkpoint_path, \n",
    "                                                monitor=\"val_accuracy\", \n",
    "                                                verbose=1, \n",
    "                                                save_best_only=True, \n",
    "                                                save_weights_only=True)\n",
    "\n",
    "if not os.path.exists(checkpoint_dir):\n",
    "    os.makedirs(checkpoint_dir, exist_ok=True)\n",
    "\n",
    "history = model.fit(train_padded, y_train, \n",
    "                    batch_size=BATCH_SIZE, \n",
    "                    epochs=NUM_EPOCHS, \n",
    "                    verbose=2, \n",
    "                    validation_split=VALID_SPLIT, \n",
    "                    callbacks=[earlystop_callback, cp_callback])\n",
    "\"\"\"                    "
   ]
  },
  {
   "cell_type": "code",
   "execution_count": 19,
   "metadata": {},
   "outputs": [],
   "source": [
    "#model.load_weights(checkpoint_path)\n",
    "\n",
    "pred = model.predict(test_bert_inputs)"
   ]
  },
  {
   "cell_type": "code",
   "execution_count": 20,
   "metadata": {},
   "outputs": [
    {
     "output_type": "execute_result",
     "data": {
      "text/plain": [
       "array([[1.5885371e-03, 3.3860454e-01, 6.5654796e-01, 2.7213146e-03,\n",
       "        5.3759245e-04],\n",
       "       [2.1667460e-04, 9.9912483e-01, 1.8147123e-04, 3.3816733e-04,\n",
       "        1.3892641e-04],\n",
       "       [9.9993896e-01, 3.5287536e-05, 2.3630694e-06, 1.4706765e-05,\n",
       "        8.7266753e-06],\n",
       "       ...,\n",
       "       [6.0088641e-05, 9.9985850e-01, 3.3370197e-05, 3.2709628e-05,\n",
       "        1.5358351e-05],\n",
       "       [3.5584158e-05, 9.9962091e-01, 1.4980376e-04, 8.2900791e-05,\n",
       "        1.1066598e-04],\n",
       "       [9.9980778e-01, 1.9327481e-05, 6.0158836e-06, 1.0730881e-04,\n",
       "        5.9550835e-05]], dtype=float32)"
      ]
     },
     "metadata": {},
     "execution_count": 20
    }
   ],
   "source": [
    "pred"
   ]
  },
  {
   "cell_type": "code",
   "execution_count": 21,
   "metadata": {},
   "outputs": [
    {
     "output_type": "execute_result",
     "data": {
      "text/plain": [
       "(19617, 5)"
      ]
     },
     "metadata": {},
     "execution_count": 21
    }
   ],
   "source": [
    "pred.shape"
   ]
  },
  {
   "cell_type": "code",
   "execution_count": 22,
   "metadata": {},
   "outputs": [],
   "source": [
    "#test_padded.shape"
   ]
  },
  {
   "cell_type": "code",
   "execution_count": 23,
   "metadata": {},
   "outputs": [
    {
     "output_type": "execute_result",
     "data": {
      "text/plain": [
       "       index         0         1         2         3         4\n",
       "0          0  0.001589  0.338605  0.656548  0.002721  0.000538\n",
       "1          1  0.000217  0.999125  0.000181  0.000338  0.000139\n",
       "2          2  0.999939  0.000035  0.000002  0.000015  0.000009\n",
       "3          3  0.000699  0.024244  0.972810  0.002079  0.000168\n",
       "4          4  0.988079  0.000150  0.001636  0.008328  0.001807\n",
       "...      ...       ...       ...       ...       ...       ...\n",
       "19612  19612  0.000036  0.999900  0.000025  0.000020  0.000020\n",
       "19613  19613  0.000194  0.000013  0.000581  0.000251  0.998960\n",
       "19614  19614  0.000060  0.999858  0.000033  0.000033  0.000015\n",
       "19615  19615  0.000036  0.999621  0.000150  0.000083  0.000111\n",
       "19616  19616  0.999808  0.000019  0.000006  0.000107  0.000060\n",
       "\n",
       "[19617 rows x 6 columns]"
      ],
      "text/html": "<div>\n<style scoped>\n    .dataframe tbody tr th:only-of-type {\n        vertical-align: middle;\n    }\n\n    .dataframe tbody tr th {\n        vertical-align: top;\n    }\n\n    .dataframe thead th {\n        text-align: right;\n    }\n</style>\n<table border=\"1\" class=\"dataframe\">\n  <thead>\n    <tr style=\"text-align: right;\">\n      <th></th>\n      <th>index</th>\n      <th>0</th>\n      <th>1</th>\n      <th>2</th>\n      <th>3</th>\n      <th>4</th>\n    </tr>\n  </thead>\n  <tbody>\n    <tr>\n      <th>0</th>\n      <td>0</td>\n      <td>0.001589</td>\n      <td>0.338605</td>\n      <td>0.656548</td>\n      <td>0.002721</td>\n      <td>0.000538</td>\n    </tr>\n    <tr>\n      <th>1</th>\n      <td>1</td>\n      <td>0.000217</td>\n      <td>0.999125</td>\n      <td>0.000181</td>\n      <td>0.000338</td>\n      <td>0.000139</td>\n    </tr>\n    <tr>\n      <th>2</th>\n      <td>2</td>\n      <td>0.999939</td>\n      <td>0.000035</td>\n      <td>0.000002</td>\n      <td>0.000015</td>\n      <td>0.000009</td>\n    </tr>\n    <tr>\n      <th>3</th>\n      <td>3</td>\n      <td>0.000699</td>\n      <td>0.024244</td>\n      <td>0.972810</td>\n      <td>0.002079</td>\n      <td>0.000168</td>\n    </tr>\n    <tr>\n      <th>4</th>\n      <td>4</td>\n      <td>0.988079</td>\n      <td>0.000150</td>\n      <td>0.001636</td>\n      <td>0.008328</td>\n      <td>0.001807</td>\n    </tr>\n    <tr>\n      <th>...</th>\n      <td>...</td>\n      <td>...</td>\n      <td>...</td>\n      <td>...</td>\n      <td>...</td>\n      <td>...</td>\n    </tr>\n    <tr>\n      <th>19612</th>\n      <td>19612</td>\n      <td>0.000036</td>\n      <td>0.999900</td>\n      <td>0.000025</td>\n      <td>0.000020</td>\n      <td>0.000020</td>\n    </tr>\n    <tr>\n      <th>19613</th>\n      <td>19613</td>\n      <td>0.000194</td>\n      <td>0.000013</td>\n      <td>0.000581</td>\n      <td>0.000251</td>\n      <td>0.998960</td>\n    </tr>\n    <tr>\n      <th>19614</th>\n      <td>19614</td>\n      <td>0.000060</td>\n      <td>0.999858</td>\n      <td>0.000033</td>\n      <td>0.000033</td>\n      <td>0.000015</td>\n    </tr>\n    <tr>\n      <th>19615</th>\n      <td>19615</td>\n      <td>0.000036</td>\n      <td>0.999621</td>\n      <td>0.000150</td>\n      <td>0.000083</td>\n      <td>0.000111</td>\n    </tr>\n    <tr>\n      <th>19616</th>\n      <td>19616</td>\n      <td>0.999808</td>\n      <td>0.000019</td>\n      <td>0.000006</td>\n      <td>0.000107</td>\n      <td>0.000060</td>\n    </tr>\n  </tbody>\n</table>\n<p>19617 rows × 6 columns</p>\n</div>"
     },
     "metadata": {},
     "execution_count": 23
    }
   ],
   "source": [
    "sample_submission[[str(i) for i in range(5)]] = pred\n",
    "sample_submission"
   ]
  },
  {
   "cell_type": "code",
   "execution_count": 24,
   "metadata": {},
   "outputs": [],
   "source": [
    "sample_submission.to_csv(\"submission_bert.csv\", index=False, encoding=\"utf-8\")"
   ]
  },
  {
   "cell_type": "code",
   "execution_count": null,
   "metadata": {},
   "outputs": [],
   "source": []
  },
  {
   "cell_type": "code",
   "execution_count": null,
   "metadata": {},
   "outputs": [],
   "source": []
  }
 ]
}