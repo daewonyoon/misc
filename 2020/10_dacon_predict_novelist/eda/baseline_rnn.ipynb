{
 "metadata": {
  "language_info": {
   "codemirror_mode": {
    "name": "ipython",
    "version": 3
   },
   "file_extension": ".py",
   "mimetype": "text/x-python",
   "name": "python",
   "nbconvert_exporter": "python",
   "pygments_lexer": "ipython3",
   "version": "3.8.2-final"
  },
  "orig_nbformat": 2,
  "kernelspec": {
   "name": "Python 3.8.2 64-bit ('env3864')",
   "display_name": "Python 3.8.2 64-bit ('env3864')",
   "metadata": {
    "interpreter": {
     "hash": "8d8be4a904752a1952ba4dc0579b68e105f90a4de4e3717abd1d6c50488bc48b"
    }
   }
  }
 },
 "nbformat": 4,
 "nbformat_minor": 2,
 "cells": [
  {
   "cell_type": "code",
   "execution_count": null,
   "metadata": {},
   "outputs": [],
   "source": [
    "import pandas as pd\n",
    "import numpy as np\n",
    "import tensorflow as tf\n",
    "from tensorflow.keras.preprocessing.sequence import pad_sequences\n",
    "from tensorflow.keras.preprocessing.text import Tokenizer\n",
    "import re\n",
    "\n",
    "import os\n",
    "\n",
    "\n",
    "tf.random.set_seed(9999)"
   ]
  },
  {
   "cell_type": "code",
   "execution_count": null,
   "metadata": {},
   "outputs": [],
   "source": [
    "def get_dat_dir_path()->str:\n",
    "    return os.path.abspath('../dat')\n",
    "    \n",
    "def get_chk_dir_path()->str:\n",
    "    return os.path.abspath('../chk')\n",
    "\n",
    "def get_train_csv_path()->str:\n",
    "    dat_dir = get_dat_dir_path()\n",
    "    # print(dat_dir)\n",
    "    return os.path.join(dat_dir, \"train.csv\")\n",
    "\n",
    "def get_test_csv_path()->str:\n",
    "    dat_dir = get_dat_dir_path()\n",
    "    return os.path.join(dat_dir, \"test_x.csv\")\n",
    "\n",
    "def get_sample_sub_path()->str:\n",
    "    dat_dir = get_dat_dir_path()\n",
    "    return os.path.join(dat_dir, \"sample_submission.csv\")\n"
   ]
  },
  {
   "cell_type": "code",
   "execution_count": null,
   "metadata": {},
   "outputs": [],
   "source": [
    "train = pd.read_csv(get_train_csv_path())\n",
    "test = pd.read_csv(get_test_csv_path())\n",
    "sample_submission = pd.read_csv(get_sample_sub_path())"
   ]
  },
  {
   "cell_type": "code",
   "execution_count": null,
   "metadata": {},
   "outputs": [],
   "source": [
    "# preprocesscing"
   ]
  },
  {
   "cell_type": "code",
   "execution_count": null,
   "metadata": {},
   "outputs": [],
   "source": [
    "def alpha_num(txt:str)->str:\n",
    "    return re.sub(r\"[^A-Za-z0-9 ]\", \"\", txt)\n",
    "\n",
    "train[\"text\"] = train[\"text\"].apply(alpha_num)"
   ]
  },
  {
   "cell_type": "code",
   "execution_count": null,
   "metadata": {},
   "outputs": [],
   "source": [
    "train"
   ]
  },
  {
   "cell_type": "code",
   "execution_count": null,
   "metadata": {},
   "outputs": [],
   "source": [
    "stopwords = [ \"a\", \"about\", \"above\", \"after\", \"again\", \"against\", \"all\", \"am\", \"an\", \"and\", \"any\", \"are\", \"as\", \n",
    "             \"at\", \"be\", \"because\", \"been\", \"before\", \"being\", \"below\", \"between\", \"both\", \"but\", \"by\", \"could\", \n",
    "             \"did\", \"do\", \"does\", \"doing\", \"down\", \"during\", \"each\", \"few\", \"for\", \"from\", \"further\", \"had\", \"has\", \n",
    "             \"have\", \"having\", \"he\", \"he'd\", \"he'll\", \"he's\", \"her\", \"here\", \"here's\", \"hers\", \"herself\", \"him\", \"himself\", \n",
    "             \"his\", \"how\", \"how's\", \"i\", \"i'd\", \"i'll\", \"i'm\", \"i've\", \"if\", \"in\", \"into\", \"is\", \"it\", \"it's\", \"its\", \"itself\", \n",
    "             \"let's\", \"me\", \"more\", \"most\", \"my\", \"myself\", \"nor\", \"of\", \"on\", \"once\", \"only\", \"or\", \"other\", \"ought\", \"our\", \"ours\", \n",
    "             \"ourselves\", \"out\", \"over\", \"own\", \"same\", \"she\", \"she'd\", \"she'll\", \"she's\", \"should\", \"so\", \"some\", \"such\", \"than\", \"that\", \n",
    "             \"that's\", \"the\", \"their\", \"theirs\", \"them\", \"themselves\", \"then\", \"there\", \"there's\", \"these\", \"they\", \"they'd\", \"they'll\", \n",
    "             \"they're\", \"they've\", \"this\", \"those\", \"through\", \"to\", \"too\", \"under\", \"until\", \"up\", \"very\", \"was\", \"we\", \"we'd\", \"we'll\", \n",
    "             \"we're\", \"we've\", \"were\", \"what\", \"what's\", \"when\", \"when's\", \"where\", \"where's\", \"which\", \"while\", \"who\", \"who's\", \"whom\", \n",
    "             \"why\", \"why's\", \"with\", \"would\", \"you\", \"you'd\", \"you'll\", \"you're\", \"you've\", \"your\", \"yours\", \"yourself\", \"yourselves\" ]\n",
    "\n",
    "def remove_stopwords(text:str) -> str:\n",
    "    final_txt = []\n",
    "    for i in text.split():\n",
    "        if i.strip().lower() not in stopwords:\n",
    "            final_txt.append(i.strip())\n",
    "    return \" \".join(final_txt)"
   ]
  },
  {
   "cell_type": "code",
   "execution_count": null,
   "metadata": {},
   "outputs": [],
   "source": [
    "train[\"text\"] = train[\"text\"].apply(alpha_num).apply(remove_stopwords)\n",
    "test[\"text\"] = test[\"text\"].apply(alpha_num).apply(remove_stopwords)"
   ]
  },
  {
   "cell_type": "code",
   "execution_count": null,
   "metadata": {},
   "outputs": [],
   "source": [
    "train"
   ]
  },
  {
   "cell_type": "code",
   "execution_count": null,
   "metadata": {},
   "outputs": [],
   "source": [
    "# x_train = train[\"text\"].values"
   ]
  },
  {
   "cell_type": "code",
   "execution_count": null,
   "metadata": {},
   "outputs": [],
   "source": [
    "# x_train"
   ]
  },
  {
   "cell_type": "code",
   "execution_count": null,
   "metadata": {},
   "outputs": [],
   "source": [
    "x_train = np.array([x for x in train[\"text\"]])\n",
    "x_test = np.array([x for x in test[\"text\"]])\n",
    "y_train = np.array([x for x in train[\"author\"]])"
   ]
  },
  {
   "cell_type": "code",
   "execution_count": null,
   "metadata": {},
   "outputs": [],
   "source": [
    "# x_train"
   ]
  },
  {
   "cell_type": "code",
   "execution_count": null,
   "metadata": {},
   "outputs": [],
   "source": [
    "# Modeling"
   ]
  },
  {
   "cell_type": "code",
   "execution_count": null,
   "metadata": {},
   "outputs": [],
   "source": [
    "vocab_size = 20000\n",
    "embedding_dim = 128\n",
    "max_length = 500\n",
    "padding_type = \"post\""
   ]
  },
  {
   "cell_type": "code",
   "execution_count": null,
   "metadata": {},
   "outputs": [],
   "source": [
    "tokenizer = Tokenizer(num_words=vocab_size)\n",
    "tokenizer.fit_on_texts(x_train)\n",
    "word_index = tokenizer.word_index"
   ]
  },
  {
   "cell_type": "code",
   "execution_count": null,
   "metadata": {},
   "outputs": [],
   "source": [
    "list(word_index)[:10]"
   ]
  },
  {
   "cell_type": "code",
   "execution_count": null,
   "metadata": {},
   "outputs": [],
   "source": [
    "train_sequence = tokenizer.texts_to_sequences(x_train)\n",
    "train_padded = pad_sequences(train_sequence, padding=padding_type, maxlen=max_length)\n",
    "\n",
    "test_sequence = tokenizer.texts_to_sequences(x_test)\n",
    "test_padded = pad_sequences(test_sequence, padding=padding_type, maxlen=max_length)"
   ]
  },
  {
   "cell_type": "code",
   "execution_count": null,
   "metadata": {},
   "outputs": [],
   "source": [
    "train_padded"
   ]
  },
  {
   "cell_type": "code",
   "execution_count": null,
   "metadata": {},
   "outputs": [],
   "source": [
    "############################################################################\n",
    "## this model part is from 텐서플로2와 머신러닝으로 시작하는 자연어처리 04. 텍스트분류\n",
    "############################################################################\n",
    "\n",
    "model_name = \"rnn_classifier_en\"\n",
    "BATCH_SIZE=128\n",
    "NUM_EPOCHS=10\n",
    "VALID_SPLIT=0.1\n",
    "MAX_LEN=train_padded.shape[1]\n",
    "\n",
    "kargs = {\n",
    "    \"model_name\": model_name,\n",
    "    \"vocab_size\": vocab_size,\n",
    "    \"embedding_size\": 100,\n",
    "    \"dropout_rate\": .2,\n",
    "    \"lstm_dimension\": 150,\n",
    "    \"dense_dimension\": 150,\n",
    "    \"output_dimension\": 5\n",
    "}"
   ]
  },
  {
   "cell_type": "code",
   "execution_count": null,
   "metadata": {},
   "outputs": [],
   "source": [
    "class RNNClassifier(tf.keras.Model):\n",
    "    def __init__(self, **kargs):\n",
    "        super(RNNClassifier, self).__init__(name=kargs[\"model_name\"])\n",
    "        self.embedding = tf.keras.layers.Embedding(input_dim=kargs[\"vocab_size\"],\n",
    "                                                   output_dim=kargs[\"embedding_size\"])\n",
    "        self.lstm_1_layer = tf.keras.layers.LSTM(kargs[\"lstm_dimension\"], return_sequences=True)\n",
    "        self.lstm_2_layer = tf.keras.layers.LSTM(kargs[\"lstm_dimension\"])\n",
    "        \n",
    "        self.dropout = tf.keras.layers.Dropout(kargs[\"dropout_rate\"])\n",
    "        self.fc1 = tf.keras.layers.Dense(units=kargs[\"dense_dimension\"], activation=\"tanh\"\n",
    "                                         )\n",
    "        self.fc2 = tf.keras.layers.Dense(units=kargs[\"output_dimension\"], activation=\"softmax\"\n",
    "                                         )\n",
    "\n",
    "\n",
    "    def call(self, x):\n",
    "        x = self.embedding(x)\n",
    "        x = self.dropout(x)\n",
    "        x = self.lstm_1_layer(x)\n",
    "        x = self.lstm_2_layer(x)\n",
    "        x = self.dropout(x)\n",
    "        x = self.fc1(x)\n",
    "        x = self.dropout(x)\n",
    "        x = self.fc2(x)\n",
    "\n",
    "        return x                                         \n"
   ]
  },
  {
   "cell_type": "code",
   "execution_count": null,
   "metadata": {},
   "outputs": [],
   "source": [
    "model = RNNClassifier(**kargs)\n"
   ]
  },
  {
   "cell_type": "code",
   "execution_count": null,
   "metadata": {},
   "outputs": [],
   "source": [
    "model.compile(loss=\"sparse_categorical_crossentropy\",\n",
    "              optimizer=\"adam\",\n",
    "              metrics=[\"accuracy\"])\n",
    "model.build(train_padded.shape)\n",
    "print(model.summary())            "
   ]
  },
  {
   "cell_type": "code",
   "execution_count": null,
   "metadata": {},
   "outputs": [],
   "source": [
    "#num_epochs = 20\n",
    "earlystop_callback = tf.keras.callbacks.EarlyStopping(monitor=\"val_accuracy\", \n",
    "                                                      min_delta=0.0001, \n",
    "                                                      patience=2)\n",
    "\n",
    "checkpoint_path = os.path.join( get_chk_dir_path(), model_name, \"weights.h5\" )\n",
    "checkpoint_dir = os.path.dirname(checkpoint_path)\n",
    "\n",
    "cp_callback = tf.keras.callbacks.ModelCheckpoint(checkpoint_path, \n",
    "                                                 monitor=\"val_accuracy\", \n",
    "                                                 verbose=1, \n",
    "                                                 save_best_only=True, \n",
    "                                                 save_weights_only=True)\n",
    "\n",
    "if not os.path.exists(checkpoint_dir):\n",
    "    os.makedirs(checkpoint_dir, exist_ok=True)\n",
    "\n",
    "history = model.fit(train_padded, y_train, \n",
    "                    batch_size=BATCH_SIZE, \n",
    "                    epochs=NUM_EPOCHS, \n",
    "                    verbose=2, \n",
    "                    validation_split=VALID_SPLIT, \n",
    "                    callbacks=[earlystop_callback, cp_callback])"
   ]
  },
  {
   "cell_type": "code",
   "execution_count": null,
   "metadata": {},
   "outputs": [],
   "source": [
    "model.load_weights(checkpoint_path)\n",
    "\n",
    "pred = model.predict(test_padded)"
   ]
  },
  {
   "cell_type": "code",
   "execution_count": null,
   "metadata": {},
   "outputs": [],
   "source": [
    "pred"
   ]
  },
  {
   "cell_type": "code",
   "execution_count": null,
   "metadata": {},
   "outputs": [],
   "source": [
    "pred.shape"
   ]
  },
  {
   "cell_type": "code",
   "execution_count": null,
   "metadata": {},
   "outputs": [],
   "source": [
    "test_padded.shape"
   ]
  },
  {
   "cell_type": "code",
   "execution_count": null,
   "metadata": {},
   "outputs": [],
   "source": [
    "sample_submission[[str(i) for i in range(5)]] = pred\n",
    "sample_submission"
   ]
  },
  {
   "cell_type": "code",
   "execution_count": null,
   "metadata": {},
   "outputs": [],
   "source": [
    "sample_submission.to_csv(\"submission_rnn.csv\", index=False, encoding=\"utf-8\")"
   ]
  },
  {
   "cell_type": "code",
   "execution_count": null,
   "metadata": {},
   "outputs": [],
   "source": []
  }
 ]
}